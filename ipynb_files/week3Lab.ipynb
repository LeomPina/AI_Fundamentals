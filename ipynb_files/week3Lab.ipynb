{
  "nbformat": 4,
  "nbformat_minor": 0,
  "metadata": {
    "colab": {
      "provenance": []
    },
    "kernelspec": {
      "name": "python3",
      "display_name": "Python 3"
    },
    "language_info": {
      "name": "python"
    }
  },
  "cells": [
    {
      "cell_type": "markdown",
      "source": [
        "# Lab 3. Genetic Algorithms\n",
        "This lab sheet aims to help us understand more about genetic algorithms, by studying 3 classic artificial intelligence problems.\n",
        "So in this lab report, we will analyse three different tasks:\n",
        "1. The travelling salesman problem\n",
        "2. The 8-queens problem\n",
        "3. The map colouring problem\n",
        "\n",
        "Each one of these will be solved using genetic algorithms, which will be tested in terms of its performance, fitness function, genetic operators and crossover characteristics.\n",
        "\n",
        "## Task 3.1 The Travelling Salesman Problem (TSP)\n",
        "###Problem Description\n",
        "\n",
        "This first task presents the problem of a salesman who needs to visit a number of N cities, from 1 to N. For this problem, we should presume that all the distances between the cities are already known. With this in mind, the objective is to calculate the best (optimal) route (city order) that the salesman should take, in order to get the minimum total distance travelled.\n",
        "\n",
        "Let's now see an example.\n",
        "\n",
        "![Figure 1](https://github.com/LeomPina/AIreports/blob/main/Captura%20de%20ecr%C3%A3%202023-10-03%20163734.png?raw=true)\n",
        "\n",
        "Figure 1\n",
        "\n",
        "If we have 17 cities, the distances between each pair would be represented by the following array of values:"
      ],
      "metadata": {
        "id": "yphcwIm0E0Ee"
      }
    },
    {
      "cell_type": "code",
      "source": [
        "TourSize = 17\n",
        "distance_map = \\\n",
        "    [[0, 633, 257, 91, 412, 150, 80, 134, 259, 505, 353, 324, 70, 211, 268, 246, 121],\n",
        "    [633, 0, 390, 661, 227, 488, 572, 530, 555, 289, 282, 638, 567, 466, 420, 745, 518],\n",
        "    [257, 390, 0, 228, 169, 112, 196, 154, 372, 262, 110, 437, 191, 74, 53, 472, 142],\n",
        "    [91, 661, 228, 0, 383, 120, 77, 105, 175, 476, 324, 240, 27, 182, 239, 237, 84],\n",
        "    [412, 227, 169, 383, 0, 267, 351, 309, 338, 196, 61, 421, 346, 243, 199, 528, 297],\n",
        "    [150, 488, 112, 120, 267, 0, 63, 34, 264, 360, 208, 329, 83, 105, 123, 364, 35],\n",
        "    [80, 572, 196, 77, 351, 63, 0, 29, 232, 444, 292, 297, 47, 150, 207, 332, 29],\n",
        "    [134, 530, 154, 105, 309, 34, 29, 0, 249, 402, 250, 314, 68, 108, 165, 349, 36],\n",
        "    [259, 555, 372, 175, 338, 264, 232, 249, 0, 495, 352, 95, 189, 326, 383, 202, 236],\n",
        "    [505, 289, 262, 476, 196, 360, 444, 402, 495, 0, 154, 578, 439, 336, 240, 685, 390],\n",
        "    [353, 282, 110, 324, 61, 208, 292, 250, 352, 154, 0, 435, 287, 184, 140, 542, 238],\n",
        "    [324, 638, 437, 240, 421, 329, 297, 314, 95, 578, 435, 0, 254, 391, 448, 157, 301],\n",
        "    [70, 567, 191, 27, 346, 83, 47, 68, 189, 439, 287, 254, 0, 145, 202, 289, 55],\n",
        "    [211, 466, 74, 182, 243, 105, 150, 108, 326, 336, 184, 391, 145, 0, 57, 426, 96],\n",
        "    [268, 420, 53, 239, 199, 123, 207, 165, 383, 240, 140, 448, 202, 57, 0, 483, 153],\n",
        "    [246, 745, 472, 237, 528, 364, 332, 349, 202, 685, 542, 157, 289, 426, 483, 0, 336],\n",
        "    [121, 518, 142, 84, 297, 35, 29, 36, 236, 390, 238, 301, 55, 96, 153, 336, 0]]"
      ],
      "metadata": {
        "id": "M-6-pZmgRPqB"
      },
      "execution_count": null,
      "outputs": []
    },
    {
      "cell_type": "markdown",
      "source": [
        "For this example, the best path solution and respective total cost would be:"
      ],
      "metadata": {
        "id": "XdXBBB1KRgrf"
      }
    },
    {
      "cell_type": "code",
      "source": [
        "OptTour = [0, 15, 11, 8, 4, 1, 9, 10, 2, 14, 13, 16, 5, 7, 6, 12, 3],\n",
        "OptDistance = 2085"
      ],
      "metadata": {
        "id": "WRHVXpwlShIZ"
      },
      "execution_count": null,
      "outputs": []
    },
    {
      "cell_type": "markdown",
      "source": [
        "Before proceeding to the testing section, we need to define 3 main factors of the genetic algorithms:\n",
        "1. Encoding scheme: For each city a number from 0 to 16 will be assigned, these cities will then be presented in a permutation (array).\n",
        "2. Fitness function: We need to check the total cost of distances between all the adjacent cities (that constitute the path), while always looking for a optimal solution (shortest route) and taking into account that the salesman will eventually return to its initial position, so the cost between the final and first position should also be considered.  \n",
        "3. Genetic operators: There are 3 genetic operators we must acknowledge:\n",
        " 1. Selection: tournament selection, as better solutions will then be used to create new ones. For example, the best solution out of 3.\n",
        " 2. Crossover: We will choose a random place to swap the sub-strings between two\n",
        "parents and by doing that, recombine their genetic information to create new solutions while keeping the validity of the strings. One way of doing this is, for example, by copying the initial sub-string (solution) from one parent and then completing the second part by following that order in the second parent. We could take the path solution of two parent individuals in a generation and swap cities between them to create new individuals with different path solutions.\n",
        " 3. Mutation: In order to maintain a certain genetic diversity in the population, we can choose two random places and swap them. We could change two random cities in the path solution.\n",
        "\n",
        "##Implementation and results\n",
        "This section shows the implemented code and its respective output. We can also see the code responsible for the encoding scheme, fitness function and genetic operators."
      ],
      "metadata": {
        "id": "W-japcEoSlCs"
      }
    },
    {
      "cell_type": "code",
      "source": [
        "!pip install deap\n",
        "import time\n",
        "import array\n",
        "import random\n",
        "import numpy as np\n",
        "from deap import algorithms, base, creator, tools"
      ],
      "metadata": {
        "colab": {
          "base_uri": "https://localhost:8080/"
        },
        "id": "X69fCMo2lrmf",
        "outputId": "c23b86c1-3531-4fdf-e93b-ef6bf6211bf6"
      },
      "execution_count": null,
      "outputs": [
        {
          "output_type": "stream",
          "name": "stdout",
          "text": [
            "Collecting deap\n",
            "  Downloading deap-1.4.1-cp310-cp310-manylinux_2_5_x86_64.manylinux1_x86_64.manylinux_2_17_x86_64.manylinux2014_x86_64.whl (135 kB)\n",
            "\u001b[?25l     \u001b[90m━━━━━━━━━━━━━━━━━━━━━━━━━━━━━━━━━━━━━━━━\u001b[0m \u001b[32m0.0/135.4 kB\u001b[0m \u001b[31m?\u001b[0m eta \u001b[36m-:--:--\u001b[0m\r\u001b[2K     \u001b[91m━━━━━━━━━━━━━━━━━━━━━━━━━━━━━━━━━━━━━━\u001b[0m\u001b[90m╺\u001b[0m \u001b[32m133.1/135.4 kB\u001b[0m \u001b[31m4.0 MB/s\u001b[0m eta \u001b[36m0:00:01\u001b[0m\r\u001b[2K     \u001b[90m━━━━━━━━━━━━━━━━━━━━━━━━━━━━━━━━━━━━━━━\u001b[0m \u001b[32m135.4/135.4 kB\u001b[0m \u001b[31m3.3 MB/s\u001b[0m eta \u001b[36m0:00:00\u001b[0m\n",
            "\u001b[?25hRequirement already satisfied: numpy in /usr/local/lib/python3.10/dist-packages (from deap) (1.23.5)\n",
            "Installing collected packages: deap\n",
            "Successfully installed deap-1.4.1\n"
          ]
        }
      ]
    },
    {
      "cell_type": "code",
      "source": [
        "TourSize = 17\n",
        "OptTour = [0, 15, 11, 8, 4, 1, 9, 10, 2, 14, 13, 16, 5, 7, 6, 12, 3],\n",
        "OptDistance = 2085\n",
        "distance_map = \\\n",
        "    [[0, 633, 257, 91, 412, 150, 80, 134, 259, 505, 353, 324, 70, 211, 268, 246, 121],\n",
        "    [633, 0, 390, 661, 227, 488, 572, 530, 555, 289, 282, 638, 567, 466, 420, 745, 518],\n",
        "    [257, 390, 0, 228, 169, 112, 196, 154, 372, 262, 110, 437, 191, 74, 53, 472, 142],\n",
        "    [91, 661, 228, 0, 383, 120, 77, 105, 175, 476, 324, 240, 27, 182, 239, 237, 84],\n",
        "    [412, 227, 169, 383, 0, 267, 351, 309, 338, 196, 61, 421, 346, 243, 199, 528, 297],\n",
        "    [150, 488, 112, 120, 267, 0, 63, 34, 264, 360, 208, 329, 83, 105, 123, 364, 35],\n",
        "    [80, 572, 196, 77, 351, 63, 0, 29, 232, 444, 292, 297, 47, 150, 207, 332, 29],\n",
        "    [134, 530, 154, 105, 309, 34, 29, 0, 249, 402, 250, 314, 68, 108, 165, 349, 36],\n",
        "    [259, 555, 372, 175, 338, 264, 232, 249, 0, 495, 352, 95, 189, 326, 383, 202, 236],\n",
        "    [505, 289, 262, 476, 196, 360, 444, 402, 495, 0, 154, 578, 439, 336, 240, 685, 390],\n",
        "    [353, 282, 110, 324, 61, 208, 292, 250, 352, 154, 0, 435, 287, 184, 140, 542, 238],\n",
        "    [324, 638, 437, 240, 421, 329, 297, 314, 95, 578, 435, 0, 254, 391, 448, 157, 301],\n",
        "    [70, 567, 191, 27, 346, 83, 47, 68, 189, 439, 287, 254, 0, 145, 202, 289, 55],\n",
        "    [211, 466, 74, 182, 243, 105, 150, 108, 326, 336, 184, 391, 145, 0, 57, 426, 96],\n",
        "    [268, 420, 53, 239, 199, 123, 207, 165, 383, 240, 140, 448, 202, 57, 0, 483, 153],\n",
        "    [246, 745, 472, 237, 528, 364, 332, 349, 202, 685, 542, 157, 289, 426, 483, 0, 336],\n",
        "    [121, 518, 142, 84, 297, 35, 29, 36, 236, 390, 238, 301, 55, 96, 153, 336, 0]]"
      ],
      "metadata": {
        "id": "WzxX1uYBtQ7d"
      },
      "execution_count": null,
      "outputs": []
    },
    {
      "cell_type": "code",
      "source": [
        "# fitness function as the sum of all the distances between each consecutive cities in individual\n",
        "def evalTSP(individual):\n",
        "    distance = distance_map[individual[-1]][individual[0]]\n",
        "    for gene1, gene2 in zip(individual[0:-1], individual[1:]):\n",
        "        distance += distance_map[gene1][gene2]\n",
        "    return distance,\n",
        "\n",
        "# create creator.FitnessMin and creator.Individual to be used in the toolbox\n",
        "creator.create(\"FitnessMin\", base.Fitness, weights=(-1.0,))\n",
        "creator.create(\"Individual\", array.array, typecode='i', fitness=creator.FitnessMin)\n",
        "\n",
        "# create the toolbox from the base\n",
        "toolbox = base.Toolbox()\n",
        "\n",
        "# add attribute generator to the toolbox\n",
        "toolbox.register(\"indices\", random.sample, range(TourSize), TourSize)\n",
        "\n",
        "# initializers for individuals and population\n",
        "toolbox.register(\"individual\", tools.initIterate, creator.Individual, toolbox.indices)\n",
        "toolbox.register(\"population\", tools.initRepeat, list, toolbox.individual)\n",
        "\n",
        "# genetic operators and fitness function\n",
        "toolbox.register(\"mate\", tools.cxPartialyMatched)\n",
        "toolbox.register(\"mutate\", tools.mutShuffleIndexes, indpb=0.05)\n",
        "# toolbox.register(\"select\", tools.selRoulette)\n",
        "toolbox.register(\"select\", tools.selTournament, tournsize=3)\n",
        "toolbox.register(\"evaluate\", evalTSP)\n"
      ],
      "metadata": {
        "id": "hDQ1qtjZtTmy"
      },
      "execution_count": null,
      "outputs": []
    },
    {
      "cell_type": "code",
      "source": [
        "random.seed(16)\n",
        "pop = toolbox.population(n=500)\n",
        "stats = tools.Statistics(lambda ind: ind.fitness.values)\n",
        "stats.register(\"min\", np.min)\n",
        "\n",
        "init_time = time.time()\n",
        "\n",
        "algorithms.eaSimple(pop, toolbox, 0.7, 0.2, ngen=50, stats=stats)\n",
        "#algorithms.eaSimple(pop, toolbox, 0.7, 0.2, ngen=50, stats=stats, verbose=False)\n",
        "\n",
        "print(\"--- %s seconds ---\" % (time.time() - init_time))\n",
        "\n",
        "best = tools.selBest(pop, 1)[0]\n",
        "print(\"Best: %s\\nTotal Distance: %s\" %(best.tolist(), best.fitness.values))"
      ],
      "metadata": {
        "colab": {
          "base_uri": "https://localhost:8080/"
        },
        "id": "GVV5pn51tWge",
        "outputId": "cca45b7c-0010-4e39-a89d-a4d22eaf8e6d"
      },
      "execution_count": null,
      "outputs": [
        {
          "output_type": "stream",
          "name": "stdout",
          "text": [
            "gen\tnevals\tmin \n",
            "0  \t500   \t3369\n",
            "1  \t395   \t3307\n",
            "2  \t384   \t3261\n",
            "3  \t386   \t3269\n",
            "4  \t402   \t2938\n",
            "5  \t371   \t2938\n",
            "6  \t372   \t2697\n",
            "7  \t361   \t2671\n",
            "8  \t388   \t2671\n",
            "9  \t377   \t2671\n",
            "10 \t391   \t2487\n",
            "11 \t348   \t2487\n",
            "12 \t379   \t2487\n",
            "13 \t386   \t2521\n",
            "14 \t357   \t2521\n",
            "15 \t366   \t2481\n",
            "16 \t358   \t2481\n",
            "17 \t390   \t2336\n",
            "18 \t376   \t2457\n",
            "19 \t402   \t2373\n",
            "20 \t366   \t2373\n",
            "21 \t360   \t2373\n",
            "22 \t375   \t2278\n",
            "23 \t388   \t2278\n",
            "24 \t385   \t2199\n",
            "25 \t396   \t2176\n",
            "26 \t367   \t2176\n",
            "27 \t382   \t2142\n",
            "28 \t368   \t2175\n",
            "29 \t367   \t2128\n",
            "30 \t366   \t2115\n",
            "31 \t376   \t2115\n",
            "32 \t389   \t2088\n",
            "33 \t374   \t2088\n",
            "34 \t381   \t2088\n",
            "35 \t380   \t2085\n",
            "36 \t377   \t2085\n",
            "37 \t383   \t2085\n",
            "38 \t380   \t2085\n",
            "39 \t418   \t2085\n",
            "40 \t380   \t2085\n",
            "41 \t367   \t2085\n",
            "42 \t352   \t2085\n",
            "43 \t364   \t2085\n",
            "44 \t388   \t2085\n",
            "45 \t373   \t2085\n",
            "46 \t393   \t2085\n",
            "47 \t388   \t2085\n",
            "48 \t377   \t2085\n",
            "49 \t375   \t2085\n",
            "50 \t379   \t2085\n",
            "--- 0.7595329284667969 seconds ---\n",
            "Best: [1, 9, 10, 2, 14, 13, 16, 5, 7, 6, 12, 3, 0, 15, 11, 8, 4]\n",
            "Total Distance: (2085.0,)\n"
          ]
        }
      ]
    },
    {
      "cell_type": "markdown",
      "source": [
        "## Discussions\n",
        "To solve this problem, it was used the DEAP (Distributed Evolutionary Algorithms in Python), as it provides all the necessary genetic algorithms and related functions to solve this task.\n",
        "\n",
        "We can see some more examples in this github page https://github.com/DEAP/deap and the online documentation of the DEAP can be found at https://deap.readthedocs.io/en/master/api/index.html.\n",
        "\n",
        "This table presents us the results outputted by the genetic algorithm, when using the esSimple() function in our newly implemented solution:\n",
        "\n",
        "| Path cost | Runtime (seconds)| Number of generations |\n",
        "|:-----------|:--------|:--------|\n",
        "|     2085    |    0.75953| 50 |\n",
        "\n",
        "###### table 1\n",
        "\n",
        "By analysing the results above, we can see that when using the esSimple() function (part of our genetic algorithm), we get an optimal path, 1-9-10-2-14-13-16-5-7-6-12-3-0-15-11-8-4, with an associated total cost of 2085 and a runtime of 0.75953 seconds. When looking at the optimal solution provided at the beginning of this task, we can notice that even though the path, 0-15-11-8-4-1-9-10-2-14-13-16-5-7-6-12-3 is different from the optimal one we got, the path cost value is 2085, which is equal. Therefore, we can verify that our solution is indeed an optimal one and so our results can be considered correct.\n",
        "\n",
        "## Task 3.2 The 8-Queens Problem\n",
        "###Problem Description\n",
        "\n",
        "This next task is a very well-known one, that consists of having an 8x8 chessboard in which we need to put 8 queens, but in a way that none of these queens can attack each other. For example, we can't have two or more queens on the same column, row or diagonal.\n",
        "\n",
        "In the following figure, we can see one example of a solution (out of the existing 92) to this problem.\n",
        "\n",
        "![Figure 2](https://github.com/LeomPina/AIreports/blob/main/Captura%20de%20ecr%C3%A3%202023-10-03%20225147.png?raw=true)\n",
        "\n",
        "Figure 2\n",
        "\n",
        "We now need to design this genetic algorithm:\n",
        "1. Encoding scheme: For each queen, there is a respective position on the board, so we will use a permutation from 0 to 7, in other words, an array of 8 elements (8 queens), where each index represents the row and the actual value of the elements represents the column, in which the queen is placed on the board. This is an optimal choice, as the genetic algorithm is just going to work towards enforcing the diagonal constraint (as both the row and column constraints are already satisfied by the permutations).\n",
        "2. Fitness function: We need to check how good a solution really is. To do so we can calculate the number of queens threatening each other, so the lower this number is, the better the individual is. Notice that when this number is equal to 0, we got ourselves a solution to this problem. As the other constraints are already taken care of, we will just calculate the number of queens threatening each other on the diagonals of the board, so for this specific 8x8 board, we have 15 raising diagonals and 15 falling diagonals, which are 30 diagonals in total. Therefore, we can utilize two arrays (of length 15) in order to store how many threats there are, so for a queen placed at position (x,y), the falling diagonal index can be calculated by doing x+y, because this formula stays constant as these positions are all in the same (falling) diagonal. On the other hand, the raising diagonal index can be calculated by doing x-y+7, as the same principle applies, but we need to add 7 so we can keep the calculated index value within boundaries (range of 0 to 14).      \n",
        "3. Genetic operators: We will take into account 3 different genetic operators:\n",
        " 1. Selection: tournament selection, as better solutions will then be used to create other ones.\n",
        " 2. Crossover: We will choose a random place to swap the sub-strings between two\n",
        "parents and by doing that, recombine their genetic information to create new solutions, while keeping the validity of the strings. One way of doing this is, for example, by copying the initial sub-string (solution) from one parent and then complete the second part by following that order in the second parent. We could take the solution of two parent individuals in a generation and swap queen positions between them to create new individuals with different path solutions.\n",
        " 3. Mutation: In order to maintain a certain genetic diversity in the population, like choosing two random places and swap them. We could change two random queen positions in the solution.\n",
        "\n",
        "##Implementation and results\n",
        "This section shows the implemented code and its respective output. We can also see the code responsable for the encoding scheme, fitness function and genetic operators.\n"
      ],
      "metadata": {
        "id": "acGXW39FucQ3"
      }
    },
    {
      "cell_type": "code",
      "source": [
        "!pip install deap\n",
        "import random, time\n",
        "import numpy as np\n",
        "from deap import algorithms, base, creator, tools\n"
      ],
      "metadata": {
        "colab": {
          "base_uri": "https://localhost:8080/"
        },
        "id": "r8D7Ir42psKM",
        "outputId": "3bf158e1-13b0-4e45-f288-6c74429030ba"
      },
      "execution_count": null,
      "outputs": [
        {
          "output_type": "stream",
          "name": "stdout",
          "text": [
            "Requirement already satisfied: deap in /usr/local/lib/python3.10/dist-packages (1.4.1)\n",
            "Requirement already satisfied: numpy in /usr/local/lib/python3.10/dist-packages (from deap) (1.23.5)\n"
          ]
        }
      ]
    },
    {
      "cell_type": "code",
      "source": [
        "NB_QUEENS = 12\n",
        "\n",
        "def evalNQueens(individual):\n",
        "\n",
        "    # create 2 list for the falling diagonal (fd) and the raising diagonal (rd)\n",
        "    fd = np.zeros(2*NB_QUEENS-1)\n",
        "    rd = np.zeros(2*NB_QUEENS-1)\n",
        "\n",
        "    # count the number of queens placed on diagonals fd/rd\n",
        "    for i in range(NB_QUEENS):\n",
        "      fd[i+individual[i]] += 1\n",
        "      rd[NB_QUEENS-1-i+individual[i]] += 1\n",
        "\n",
        "    # sum the number of queens if more than 1 queen on a diagonal\n",
        "    return np.sum(fd[fd>1]) + np.sum(rd[rd>1]),\n"
      ],
      "metadata": {
        "id": "EsX4jULmp5pb"
      },
      "execution_count": null,
      "outputs": []
    },
    {
      "cell_type": "code",
      "source": [
        "# enforce only 1 queen per column by using a list of NB_QUEENS\n",
        "creator.create(\"FitnessMin\", base.Fitness, weights=(-1.0,))\n",
        "creator.create(\"Individual\", list, fitness=creator.FitnessMin)\n",
        "\n",
        "# enforce only 1 queen per row by using permutation\n",
        "toolbox = base.Toolbox()\n",
        "toolbox.register(\"permutation\", random.sample, range(NB_QUEENS), NB_QUEENS)\n",
        "\n",
        "# register all elements of the GA\n",
        "toolbox.register(\"individual\", tools.initIterate, creator.Individual, toolbox.permutation)\n",
        "toolbox.register(\"population\", tools.initRepeat, list, toolbox.individual)\n",
        "toolbox.register(\"evaluate\", evalNQueens)\n",
        "toolbox.register(\"mate\", tools.cxPartialyMatched)\n",
        "toolbox.register(\"mutate\", tools.mutShuffleIndexes, indpb=2.0/NB_QUEENS)\n",
        "toolbox.register(\"select\", tools.selTournament, tournsize=3)"
      ],
      "metadata": {
        "id": "Q2nbfhhyp82I"
      },
      "execution_count": null,
      "outputs": []
    },
    {
      "cell_type": "code",
      "source": [
        "# run the GA to get the result\n",
        "random.seed(64)\n",
        "pop = toolbox.population(n=300)\n",
        "init_time = time.time()\n",
        "algorithms.eaSimple(pop, toolbox, cxpb=0.5, mutpb=0.2, ngen=50, verbose=False)\n",
        "print(\"--- %s seconds ---\" % (time.time() - init_time))\n",
        "best = tools.selBest(pop, 1)[0]\n",
        "print(\"Best: %s. Fitness value: %s\" %(best, best.fitness.values[0]))"
      ],
      "metadata": {
        "colab": {
          "base_uri": "https://localhost:8080/"
        },
        "id": "Jl9h-6y8p-sH",
        "outputId": "fbcd162a-6bcd-48e1-c523-6415a99796b9"
      },
      "execution_count": null,
      "outputs": [
        {
          "output_type": "stream",
          "name": "stdout",
          "text": [
            "--- 0.6540398597717285 seconds ---\n",
            "Best: [4, 7, 9, 6, 2, 0, 11, 8, 10, 1, 3, 5]. Fitness value: 0.0\n"
          ]
        }
      ]
    },
    {
      "cell_type": "code",
      "source": [
        "# display the result\n",
        "import matplotlib.pyplot as plt\n",
        "\n",
        "chessboard = np.ones((NB_QUEENS, NB_QUEENS))\n",
        "chessboard[1::2,0::2] = 0.75\n",
        "chessboard[0::2,1::2] = 0.75\n",
        "plt.imshow(chessboard, cmap='gray', origin='lower', vmin=0, vmax=1)\n",
        "for x in range(NB_QUEENS):\n",
        "    plt.text(x, best[x], '♕', fontsize=30, ha='center', va='center')"
      ],
      "metadata": {
        "colab": {
          "base_uri": "https://localhost:8080/",
          "height": 435
        },
        "id": "W9Jo0GPtqArL",
        "outputId": "3ca96d5a-702b-41c7-c7d9-82e9b6ede4e5"
      },
      "execution_count": null,
      "outputs": [
        {
          "output_type": "display_data",
          "data": {
            "text/plain": [
              "<Figure size 640x480 with 1 Axes>"
            ],
            "image/png": "[encoded data removed]"
          },
          "metadata": {}
        }
      ]
    },
    {
      "cell_type": "markdown",
      "source": [
        "## Discussions\n",
        "To find a solution to this problem, again, it was used the DEAP (Distributed Evolutionary Algorithms in Python).\n",
        "\n",
        "In the figure below, we can see an illustration of the solution generated when running the program.\n",
        "\n",
        "![Figure 3](https://github.com/LeomPina/AIreports/blob/main/chess.png?raw=true)\n",
        "\n",
        "Figure 3\n",
        "\n",
        "By looking at the results obtained, when once again using the esSimple() function, we notice that we successfully found a solution to the \"8-queens problem\", as none of the resulting queens are attacking one another, while the best position layout discovered for the queens is 5-3-1-7-4-6-0-2. The fitness value of this solution is 0 (as no queen has a target), which is also an indicator that we were successful in finding a solution.\n",
        "\n",
        "For the sake of further investigation, we also tested this algorithm for a number of 12 queens. This new solution can be seen in the figure below.\n",
        "\n",
        "![Figure 4](https://github.com/LeomPina/AIreports/blob/main/chess%2012.png?raw=true)\n",
        "\n",
        "Figure 4\n",
        "\n",
        "As we can see the best solution found to this new problem is also accepted, as once again, none of the resulting queens are attacking each other. The best position layout discovered for the queens is 4-7-9-6-2-0-11-8-10-1-3-5 and the fitness value of this solution is also equal to 0.\n",
        "\n",
        "## Task 3.3 The Map Colouring Problem\n",
        "###Problem Description\n",
        "\n",
        "This last task presents the \"map colouring problem\", in which we have a map that needs to be coloured. So the objective is to colour this map using as many colours as possible, but no adjacent areas can have the same colour.\n",
        "\n",
        "For this problem, we used a generic algorithm in order to create a solution that can colour an entire map with a maximum number of only 4 colours (as in the \"four colours theorem\").\n",
        "\n",
        "In the figure below we can see a map example of this problem.\n",
        "\n",
        "![Figure 5](https://github.com/LeomPina/AIreports/blob/main/Captura%20de%20ecr%C3%A3%202023-10-06%20011214.png?raw=true)\n",
        "\n",
        "Figure 5\n",
        "\n",
        "So in this example, we can see 11 different area names, that being, we can only use 4 colours to find a solution. In order to practically represent what is displayed in the map figure above, we can use an upper triangular matrix (array) that will contain the information about the adjency status for each area name concerning each other, so that value would be 0 if that certain area isn't adjacent and 1 otherwise. As an example, we could say that neighbours[0,1]=1 means Mark neighbouring Julia. We opted for this type of matrix instead of, for example, a full one, because the areas have reciprocal relationships when it comes to adjacency. We will also get a matrix in which its lower part is just zeros, this will also help us get rid of unnecessary data or redundancy and even save storage and other resources."
      ],
      "metadata": {
        "id": "Jp6EMhXSrsms"
      }
    },
    {
      "cell_type": "code",
      "source": [
        "neighbours =  [ [0,1,1,0,0,0,0,0,0,0,0],\n",
        "                [0,0,1,1,1,0,1,0,0,0,0],\n",
        "                [0,0,0,1,0,0,0,1,1,0,0],\n",
        "                [0,0,0,0,0,1,1,0,1,0,0],\n",
        "                [0,0,0,0,0,0,1,0,0,1,0],\n",
        "                [0,0,0,0,0,0,1,0,1,1,1],\n",
        "                [0,0,0,0,0,0,0,0,0,1,1],\n",
        "                [0,0,0,0,0,0,0,0,1,0,0],\n",
        "                [0,0,0,0,0,0,0,0,0,0,0],\n",
        "                [0,0,0,0,0,0,0,0,0,0,1],\n",
        "                [0,0,0,0,0,0,0,0,0,0,0]]"
      ],
      "metadata": {
        "id": "3ldm-V69cRZY"
      },
      "execution_count": null,
      "outputs": []
    },
    {
      "cell_type": "markdown",
      "source": [
        "Let's now see the design of this genetic algorithm:\n",
        "1. Encoding scheme: For representing the neighbourhood of each area, we will use an array with a size of 11 (as there are 11 names) that should represent the colour of each name, where the colours will be numbered from 0 to 3.\n",
        "2. Fitness function: As we need to evaluate how good a solution is, we will calculate the number of adjacent areas that have the same colour, where the value 0 would indicate that we found a suitable solution for the problem, as there are 0 adjacent areas with the same colour.     \n",
        "3. Genetic operators: We will take into account 3 different genetic operators:\n",
        " 1. Selection: tournament selection, as better solutions will then be used to create other ones.\n",
        " 2. Crossover: We will choose a random place to swap the sub-strings between two\n",
        "parents and by doing that, recombine their genetic information to create new solutions while keeping the validity of the strings. One way of doing this is, for example, by copying the initial sub-string (solution) from one parent and then completing the second part by following that order in the second parent. We could take the (list) solution of two parent individuals in a generation and swap some of the colour positions between them to create new individuals with different colour solutions.\n",
        " 3. Mutation: It would be beneficial to maintain a certain genetic diversity in the population, for that purpose, we could choose two random colour positions in the solution and swap them."
      ],
      "metadata": {
        "id": "YmKqeh-Eckle"
      }
    },
    {
      "cell_type": "code",
      "source": [
        "!pip install deap\n",
        "import array, time\n",
        "import random\n",
        "import numpy as np\n",
        "from deap import creator, base, tools, algorithms"
      ],
      "metadata": {
        "colab": {
          "base_uri": "https://localhost:8080/"
        },
        "id": "12mIaSUMc8Ew",
        "outputId": "fa00184f-598e-4b37-d74c-4ec79330ecc7"
      },
      "execution_count": null,
      "outputs": [
        {
          "output_type": "stream",
          "name": "stdout",
          "text": [
            "Collecting deap\n",
            "  Downloading deap-1.4.1-cp310-cp310-manylinux_2_5_x86_64.manylinux1_x86_64.manylinux_2_17_x86_64.manylinux2014_x86_64.whl (135 kB)\n",
            "\u001b[?25l     \u001b[90m━━━━━━━━━━━━━━━━━━━━━━━━━━━━━━━━━━━━━━━━\u001b[0m \u001b[32m0.0/135.4 kB\u001b[0m \u001b[31m?\u001b[0m eta \u001b[36m-:--:--\u001b[0m\r\u001b[2K     \u001b[90m━━━━━━━━━━━━━━━━━━━━━━━━━━━━━━━━━━━━━━━\u001b[0m \u001b[32m135.4/135.4 kB\u001b[0m \u001b[31m3.9 MB/s\u001b[0m eta \u001b[36m0:00:00\u001b[0m\n",
            "\u001b[?25hRequirement already satisfied: numpy in /usr/local/lib/python3.10/dist-packages (from deap) (1.23.5)\n",
            "Installing collected packages: deap\n",
            "Successfully installed deap-1.4.1\n"
          ]
        }
      ]
    },
    {
      "cell_type": "code",
      "source": [
        "# Specify the variables\n",
        "numColour = 4\n",
        "numNames = 11\n",
        "colours = ('red', 'green', 'blue', 'gray')\n",
        "names = ('Mark', 'Julia', 'Steve', 'Amanda', 'Brian',\n",
        "         'Joanne', 'Derek', 'Allan', 'Michelle', 'Kelly', 'Chris')\n",
        "\n",
        "# Define the neighbours\n",
        "neighbours =  [ [0,1,1,0,0,0,0,0,0,0,0],\n",
        "                [0,0,1,1,1,0,1,0,0,0,0],\n",
        "                [0,0,0,1,0,0,0,1,1,0,0],\n",
        "                [0,0,0,0,0,1,1,0,1,0,0],\n",
        "                [0,0,0,0,0,0,1,0,0,1,0],\n",
        "                [0,0,0,0,0,0,1,0,1,1,1],\n",
        "                [0,0,0,0,0,0,0,0,0,1,1],\n",
        "                [0,0,0,0,0,0,0,0,1,0,0],\n",
        "                [0,0,0,0,0,0,0,0,0,0,0],\n",
        "                [0,0,0,0,0,0,0,0,0,0,1],\n",
        "                [0,0,0,0,0,0,0,0,0,0,0]]\n"
      ],
      "metadata": {
        "id": "qcc-0sW_dAV9"
      },
      "execution_count": null,
      "outputs": []
    },
    {
      "cell_type": "code",
      "source": [
        "def evalMapColouring(ind):\n",
        "    val = 0\n",
        "    for i in range(0, numNames):\n",
        "      for j in range(0, numNames):\n",
        "        if (neighbours[i][j] == 1) and (ind[i] == ind[j]):\n",
        "            val += 1\n",
        "    return val,\n",
        "\n",
        "creator.create(\"FitnessMin\", base.Fitness, weights=(-1.0,))\n",
        "creator.create(\"Individual\", array.array, typecode='i', fitness=creator.FitnessMin)\n",
        "\n",
        "toolbox = base.Toolbox()\n",
        "toolbox.register(\"attr_colour\", random.randint, 0, numColour-1)\n",
        "toolbox.register(\"individual\", tools.initRepeat, creator.Individual, toolbox.attr_colour, numNames)\n",
        "toolbox.register(\"population\", tools.initRepeat, list, toolbox.individual)\n",
        "\n",
        "toolbox.register(\"evaluate\", evalMapColouring)\n",
        "toolbox.register(\"mate\", tools.cxTwoPoint)\n",
        "toolbox.register(\"mutate\", tools.mutUniformInt, low=0, up=numColour-1, indpb=0.05)\n",
        "toolbox.register(\"select\", tools.selTournament, tournsize=3)\n"
      ],
      "metadata": {
        "id": "eJ9OTJqjdDFF"
      },
      "execution_count": null,
      "outputs": []
    },
    {
      "cell_type": "code",
      "source": [
        "pop = toolbox.population(n=10)\n",
        "stats = tools.Statistics(lambda ind: ind.fitness.values)\n",
        "stats.register(\"min\", np.min)\n",
        "init_time = time.time()\n",
        "pop, log = algorithms.eaSimple(pop, toolbox, cxpb=0.8, mutpb=0.4, ngen=100,\n",
        "                              stats=stats, verbose=True)\n",
        "print(\"--- %s seconds ---\" % (time.time() - init_time))\n",
        "\n",
        "best = tools.selBest(pop, 1)[0]\n",
        "print(\"Best: %s. Fitness: %s.\" %(best.tolist(), evalMapColouring(best)[0]))\n",
        "for i in range(numNames):\n",
        "  print(\"%s ==> %s\" %(names[i], colours[best[i]]))"
      ],
      "metadata": {
        "colab": {
          "base_uri": "https://localhost:8080/"
        },
        "id": "fOFnU_5edFEx",
        "outputId": "25e7e268-9810-455a-8928-4f461ae14a01"
      },
      "execution_count": null,
      "outputs": [
        {
          "output_type": "stream",
          "name": "stdout",
          "text": [
            "gen\tnevals\tmin\n",
            "0  \t10    \t3  \n",
            "1  \t8     \t4  \n",
            "2  \t9     \t4  \n",
            "3  \t6     \t2  \n",
            "4  \t8     \t2  \n",
            "5  \t8     \t2  \n",
            "6  \t8     \t2  \n",
            "7  \t10    \t2  \n",
            "8  \t10    \t2  \n",
            "9  \t7     \t2  \n",
            "10 \t8     \t2  \n",
            "11 \t8     \t2  \n",
            "12 \t10    \t2  \n",
            "13 \t10    \t1  \n",
            "14 \t8     \t1  \n",
            "15 \t10    \t1  \n",
            "16 \t10    \t1  \n",
            "17 \t10    \t1  \n",
            "18 \t10    \t1  \n",
            "19 \t9     \t0  \n",
            "20 \t10    \t0  \n",
            "21 \t8     \t0  \n",
            "22 \t9     \t0  \n",
            "23 \t10    \t0  \n",
            "24 \t9     \t0  \n",
            "25 \t7     \t0  \n",
            "26 \t8     \t0  \n",
            "27 \t10    \t0  \n",
            "28 \t8     \t0  \n",
            "29 \t10    \t0  \n",
            "30 \t8     \t0  \n",
            "31 \t8     \t0  \n",
            "32 \t10    \t0  \n",
            "33 \t9     \t0  \n",
            "34 \t7     \t0  \n",
            "35 \t9     \t0  \n",
            "36 \t8     \t0  \n",
            "37 \t4     \t0  \n",
            "38 \t8     \t0  \n",
            "39 \t7     \t0  \n",
            "40 \t8     \t0  \n",
            "41 \t10    \t0  \n",
            "42 \t9     \t0  \n",
            "43 \t8     \t0  \n",
            "44 \t9     \t0  \n",
            "45 \t8     \t0  \n",
            "46 \t9     \t0  \n",
            "47 \t8     \t0  \n",
            "48 \t10    \t0  \n",
            "49 \t10    \t0  \n",
            "50 \t8     \t0  \n",
            "51 \t10    \t0  \n",
            "52 \t10    \t0  \n",
            "53 \t8     \t0  \n",
            "54 \t10    \t0  \n",
            "55 \t6     \t0  \n",
            "56 \t9     \t0  \n",
            "57 \t5     \t0  \n",
            "58 \t8     \t0  \n",
            "59 \t7     \t0  \n",
            "60 \t7     \t0  \n",
            "61 \t10    \t0  \n",
            "62 \t10    \t0  \n",
            "63 \t8     \t0  \n",
            "64 \t8     \t0  \n",
            "65 \t8     \t0  \n",
            "66 \t10    \t0  \n",
            "67 \t9     \t0  \n",
            "68 \t6     \t0  \n",
            "69 \t9     \t0  \n",
            "70 \t10    \t0  \n",
            "71 \t10    \t0  \n",
            "72 \t8     \t0  \n",
            "73 \t9     \t0  \n",
            "74 \t10    \t0  \n",
            "75 \t8     \t0  \n",
            "76 \t10    \t0  \n",
            "77 \t7     \t0  \n",
            "78 \t10    \t0  \n",
            "79 \t7     \t0  \n",
            "80 \t9     \t0  \n",
            "81 \t10    \t0  \n",
            "82 \t7     \t0  \n",
            "83 \t10    \t0  \n",
            "84 \t9     \t0  \n",
            "85 \t6     \t0  \n",
            "86 \t8     \t0  \n",
            "87 \t10    \t0  \n",
            "88 \t10    \t0  \n",
            "89 \t10    \t0  \n",
            "90 \t8     \t0  \n",
            "91 \t10    \t0  \n",
            "92 \t10    \t0  \n",
            "93 \t8     \t0  \n",
            "94 \t8     \t0  \n",
            "95 \t8     \t0  \n",
            "96 \t8     \t0  \n",
            "97 \t10    \t0  \n",
            "98 \t10    \t0  \n",
            "99 \t10    \t0  \n",
            "100\t9     \t0  \n",
            "--- 0.06924057006835938 seconds ---\n",
            "Best: [3, 1, 2, 3, 3, 2, 0, 3, 1, 1, 3]. Fitness: 0.\n",
            "Mark ==> gray\n",
            "Julia ==> green\n",
            "Steve ==> blue\n",
            "Amanda ==> gray\n",
            "Brian ==> gray\n",
            "Joanne ==> blue\n",
            "Derek ==> red\n",
            "Allan ==> gray\n",
            "Michelle ==> green\n",
            "Kelly ==> green\n",
            "Chris ==> gray\n"
          ]
        }
      ]
    },
    {
      "cell_type": "markdown",
      "source": [
        "## Discussions\n",
        "To solve this problem, once more it was used the DEAP (Distributed Evolutionary Algorithms in Python).\n",
        "\n",
        "In the figure below, we can see an illustrated example of one possible solution generated by this algorithm. Notice that each run can give a different but also acceptable solution.\n",
        "\n",
        "![Figure 6](https://github.com/LeomPina/AIreports/blob/main/Captura%20de%20ecr%C3%A3%202023-10-06%20165609.png?raw=true)\n",
        "\n",
        "Figure 6\n",
        "\n",
        "So some possible output examples could be, such as 1-3-0-2-2-1-0-2-3-3-2, 2-0-3-2-3-3-1-1-0-0-2, or for example, 3-1-2-3-3-2-0-3-1-1-3, all these are presented with a fitness value of 0.\n",
        "\n",
        "By analysing the solutions previously mentioned, we can notice that none of the area names has the same colour as an adjacent one, also the fitness value is 0, which also means that we got an optimal solution. Therefore, we can assume that this algorithm revealed itself successful in finding a solution to this task.\n",
        "\n",
        "#Conclusion\n",
        "\n",
        "In conclusion, after completing this Lab work by solving its tasks and problems, we can agree that by using the DEAP, we were able to find an optimal solution for these 3 tasks. By doing so, we also studied these 3 classic problems and therefore gained the skills to design genetic algorithms to solve these kinds of problem, as well to build the encoding scheme, fitness function and genetic operators.\n",
        "\n",
        "In further investigations, we could use other and even more complex algorithms and data structures, as well as try to solve more advanced problems which would require better fitness functions and more evolved algorithmic genetic designs, which could also mean many more generations, individuals and solutions. Furthermore, we could also try to apply this knowledge to real-world applications or other areas of investigation."
      ],
      "metadata": {
        "id": "00Rz6EM2qeBz"
      }
    }
  ]
}