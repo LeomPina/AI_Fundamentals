{
  "nbformat": 4,
  "nbformat_minor": 0,
  "metadata": {
    "colab": {
      "provenance": []
    },
    "kernelspec": {
      "name": "python3",
      "display_name": "Python 3"
    },
    "language_info": {
      "name": "python"
    }
  },
  "cells": [
    {
      "cell_type": "markdown",
      "source": [
        "# Lab 6. Natural Language Processing\n",
        "This lab sheet aims to help us understand more about natural language processing, as we are going to study this\n",
        "new topic, and use it to solve 3 problems, which will be divided into the following tasks:\n",
        "1. The sentiment analysis problem\n",
        "2. The text classification problem\n",
        "3. The topic modelling problem\n",
        "\n",
        "## Task 6.1 Sentiment Analysis\n",
        "###Problem Description\n",
        "\n",
        "This first task presents us with a sentiment analysis problem, in which we will take movie reviews, and perform a sentiment analysis of these reviews. This task is also known as the “Hello World” problem for NLP (natural language\n",
        "processing). Despite its popularity, it is still difficult to perform this analysis, while getting almost flawless results and performances, as there are many \"human attributes\" to writting, such as sarcasm, slang, and other writing techniques or styles that make it hard for the computer to fully understand and process.\n",
        "\n",
        "In order to solve this task, we will use a dataset called \"movie_reviews\" (from the nltk corpus), which contains 1000 positive reviews, as well as 1000 negative ones.\n",
        "\n",
        "The following figure shows us an excerpt of a review, as an example of the type of language and writing used in the reviews presented in this dataset.\n",
        "\n",
        "![Figure 1](https://github.com/LeomPina/AIreports/blob/main/w7_6.1.1.png?raw=true)\n",
        "\n",
        "Figure 1\n",
        "\n",
        "In our implemented solution for this problem, we will use the simple word count features, as we will count the occurrence of each word in the document, such as \"tf\" and \"tf-idf\", in which \"tf\" stands for term frequency, and \"idf\" for inverse document frequency. We can see how to calculate these features in the figure below taken from the lecture.\n",
        "\n",
        "![Figure 2](https://github.com/LeomPina/AIreports/blob/main/w7_6.1.2.png?raw=true)\n",
        "\n",
        "Figure 2\n",
        "\n",
        "By using this technique, we are going to use one-hot vectors, which contain a binary representation of the words processed (for each word the vector representation is all 0s except for a 1 value), and then accumulate these one-hot vectors to create a new vector that has got all the frequencies of existing words in that document.\n",
        "\n",
        "We will also use the Naïve Bayes method, as we used in a previous lab task, except in this task we will use the multinomial model, which uses a different model for probability distribution than the one previously used. This method will be necessary for text classification, in this case, to classify the reviews as positive or negative.\n",
        "\n",
        "##Implementation and results\n",
        "This section shows the implemented code and its respective output."
      ],
      "metadata": {
        "id": "EMe94Dsq5X0p"
      }
    },
    {
      "cell_type": "code",
      "source": [
        "!pip install nltk\n",
        "import nltk\n",
        "from nltk.corpus import movie_reviews\n",
        "\n",
        "nltk.download('movie_reviews')"
      ],
      "metadata": {
        "colab": {
          "base_uri": "https://localhost:8080/"
        },
        "id": "-krGSYlRBg2G",
        "outputId": "fcdc3e38-3d8a-49f1-e919-a430ba516afc"
      },
      "execution_count": null,
      "outputs": [
        {
          "output_type": "stream",
          "name": "stdout",
          "text": [
            "Requirement already satisfied: nltk in /usr/local/lib/python3.10/dist-packages (3.8.1)\n",
            "Requirement already satisfied: click in /usr/local/lib/python3.10/dist-packages (from nltk) (8.1.7)\n",
            "Requirement already satisfied: joblib in /usr/local/lib/python3.10/dist-packages (from nltk) (1.3.2)\n",
            "Requirement already satisfied: regex>=2021.8.3 in /usr/local/lib/python3.10/dist-packages (from nltk) (2023.6.3)\n",
            "Requirement already satisfied: tqdm in /usr/local/lib/python3.10/dist-packages (from nltk) (4.66.1)\n"
          ]
        },
        {
          "output_type": "stream",
          "name": "stderr",
          "text": [
            "[nltk_data] Downloading package movie_reviews to /root/nltk_data...\n",
            "[nltk_data]   Package movie_reviews is already up-to-date!\n"
          ]
        },
        {
          "output_type": "execute_result",
          "data": {
            "text/plain": [
              "True"
            ]
          },
          "metadata": {},
          "execution_count": 25
        }
      ]
    },
    {
      "cell_type": "code",
      "source": [
        "from sklearn.naive_bayes import MultinomialNB\n",
        "from sklearn.feature_extraction.text import TfidfVectorizer\n",
        "from sklearn import metrics\n",
        "from sklearn.model_selection import train_test_split"
      ],
      "metadata": {
        "id": "KBN0pL-ZBwnc"
      },
      "execution_count": null,
      "outputs": []
    },
    {
      "cell_type": "code",
      "source": [
        "# Get the positive and negative review IDs\n",
        "fileids_pos = movie_reviews.fileids('pos')\n",
        "fileids_neg = movie_reviews.fileids('neg')\n",
        "\n",
        "# Load the reviews\n",
        "raw_data = []\n",
        "for i in range(len(fileids_pos)):\n",
        "  raw_data.append(movie_reviews.raw(fileids_pos[i]))\n",
        "for i in range(len(fileids_neg)):\n",
        "  raw_data.append(movie_reviews.raw(fileids_neg[i]))\n",
        "\n",
        "# The corresponding labels for the reviews, 0 for postive, 1 for negative\n",
        "labels = [0] * len(fileids_pos) + [1] * len(fileids_neg)\n",
        "\n",
        "# Split the training and testing set by 80-20%\n",
        "X_train, X_test, Y_train, Y_test = train_test_split(raw_data, labels, test_size=0.2)"
      ],
      "metadata": {
        "id": "kdSLw19CByVz"
      },
      "execution_count": null,
      "outputs": []
    },
    {
      "cell_type": "code",
      "source": [
        "# Calculate the tf-idf features from the training set\n",
        "tfidf = TfidfVectorizer(use_idf=False)\n",
        "tfidf_data = tfidf.fit_transform(X_train)\n",
        "print(tfidf_data.shape)\n",
        "\n",
        "# Train the naive Bayes model for prediction\n",
        "classifier = MultinomialNB().fit(tfidf_data, Y_train)"
      ],
      "metadata": {
        "colab": {
          "base_uri": "https://localhost:8080/"
        },
        "id": "mNMOU9QTB0BK",
        "outputId": "a4c42354-f853-42bd-93dc-a58538d986d0"
      },
      "execution_count": null,
      "outputs": [
        {
          "output_type": "stream",
          "name": "stdout",
          "text": [
            "(1600, 36359)\n"
          ]
        }
      ]
    },
    {
      "cell_type": "code",
      "source": [
        "# Performance on the testing set\n",
        "testing_tfidf = tfidf.transform(X_test)\n",
        "predictions = classifier.predict(testing_tfidf)\n",
        "print(metrics.classification_report(Y_test, predictions, target_names=['pos', 'neg']))"
      ],
      "metadata": {
        "colab": {
          "base_uri": "https://localhost:8080/"
        },
        "id": "-SpeluQjB1lD",
        "outputId": "7c21e618-acad-41ed-a6c7-bdafdb43e8fa"
      },
      "execution_count": null,
      "outputs": [
        {
          "output_type": "stream",
          "name": "stdout",
          "text": [
            "              precision    recall  f1-score   support\n",
            "\n",
            "         pos       0.95      0.52      0.67       199\n",
            "         neg       0.67      0.98      0.80       201\n",
            "\n",
            "    accuracy                           0.75       400\n",
            "   macro avg       0.81      0.75      0.73       400\n",
            "weighted avg       0.81      0.75      0.73       400\n",
            "\n"
          ]
        }
      ]
    },
    {
      "cell_type": "code",
      "source": [
        "print(X_train[0])\n",
        "print(testing_tfidf[0])"
      ],
      "metadata": {
        "colab": {
          "base_uri": "https://localhost:8080/"
        },
        "id": "hLi1ljm3B3Ld",
        "outputId": "fa463d86-4b86-4773-f860-56b18c8cec49"
      },
      "execution_count": null,
      "outputs": [
        {
          "output_type": "stream",
          "name": "stdout",
          "text": [
            "jerry springer has got nothing on \" wild things . \" \n",
            "john mcnaughton's new thriller tackles more tawdry themes in less than two hours than springer's notoriously sleazy talk show broadcasts in two weeks -- bisexuality , threesomes , poolside catfights , slutty rich bimbos , even redneck gator-wrestling , they're all part of the movie's raucous , complex storyline . \n",
            "but even trash tv topicality can't drag \" wild things \" down -- this crazy campfest plays like something you'd find late-night on the usa network , only infinitely more palatable and with a solid ensemble cast . \n",
            "despite a smattering of needless scenes ( most of them sexual in nature ) , there's wicked fun to be had here . \n",
            " \" wild things \" would be a guilty pleasure , only there's no guilty feeling involved in having a good time with it . \n",
            "high school guidance counselor sam lombardo ( matt dillon ) is well-liked in the town of blue bay , especially by pretty , popular kelly van ryan ( denise richards ) , whose family name is among the florida yachting enclave's most financially prominent . \n",
            "hoping to take her crush to a physical level , kelly seductively slinks into lombardo's house after washing his jeep for a fundraiser , but , the very next day , tearfully admits to her trollop mother ( theresa russell ) that she was raped . \n",
            "before long , blue bay detectives ray duquette ( kevin bacon ) and gloria perez ( daphne rubin-vega ) are listening to similar allegations from kelly's rebel classmate suzie toller ( neve campbell ) . \n",
            "lombardo , who maintains his innocence , hires neck brace-sporting , opportunistic lawyer ken bowden ( bill murray ) to defend him in court . \n",
            "the previews give away the following revelations , so if you haven't seen any of the movie's spots on the television or in the theater , you might want to skip to the next paragraph . \n",
            "while cross-examining suzie on the witness stand , bowden gets her to break down and admit that the alleged rapes never took place -- that kelly had concocted this entire scheme because she was angry that lombardo was sleeping with her mother and not with her . \n",
            "to pay lombardo for the damages , kelly's mother breaks her daughter's trust fund and gives him $8 . 5 million . \n",
            "but lombardo , kelly and suzie are actually all working together , and plan to take the money and run as fast as they can . \n",
            "duquette and perez , however , begin to suspect that there's more afoot to the case than just false accusations . \n",
            "if there's a major drawback to \" wild things , \" it's that it's oversexed to a fault . \n",
            "the much-talked-about hotel room menage-a-trois between dillon , campbell and richards is a turn-off . \n",
            "it's also cut short ( sorry , guys ) , and should have been cut shorter -- the movie grinds to a halt for pure titillation once too often . \n",
            "what we don't see is far more effective than what we do . \n",
            "another example of this is kevin bacon needlessly going the full monty in a shower scene . \n",
            "er , no thanks . \n",
            "also , bacon's duquette feels simultaneously underdeveloped and overwritten . \n",
            "daphne rubin-vega , from broadway's \" rent , \" tries to compensate for a superfluous character . \n",
            "theresa russell is just plain wooden . \n",
            "and when , in the end , all is out in the open , ask yourself if certain scenes involving these three were really necessary . \n",
            "but what keeps the movie from being throwaway junk is an engaging chain of surprises ( some predictable , some not ) that never seems to end . \n",
            " \" wild things \" has more twists than a crate full of corkscrews , and most are so gleefully , over-the-top nasty that you can't help but be charmed by their absurd showmanship . \n",
            "a great deal of amusement also comes from watching bill murray in a supporting part that appears to have been written for his sly comedic talent ; murray's a stitch , especially when pulling up beside the van ryan limo after winning lombardo's case and flipping them off . \n",
            "and don't leave when the closing credits hit the screen , or you'll miss the film's best part -- four bonus flashbacks that smooth over plot holes while offering a few more tiny turns , plus a final scene that caps everything off with a great stunner of a bombshell . \n",
            "speaking of bombshells , denise richards , who plays almost every scene in a blue bikini top , does the teen tease thing with a malicious allure that she was never allowed to flaunt in \" starship troopers . \" \n",
            "matt dillon flexes his sleepy-voiced sex appeal , and pulls off personality changes with chameleonic precision . \n",
            "neve campbell , lovely as ever except when sporting a blond wig , gives suzie a vengeful vulnerability that makes her the most interesting member of the conspiring trio . \n",
            "re-edited and toned down a bit , the dynamics between these three actors could have carried the film to greater lengths . \n",
            "but what we're given works well enough . \n",
            " \" wild things \" is highly entertaining and , indeed , very wild . \n",
            "\n",
            "  (0, 198)\t0.012845874888467699\n",
            "  (0, 405)\t0.012845874888467699\n",
            "  (0, 650)\t0.0899211242192739\n",
            "  (0, 868)\t0.025691749776935398\n",
            "  (0, 869)\t0.012845874888467699\n",
            "  (0, 878)\t0.012845874888467699\n",
            "  (0, 904)\t0.012845874888467699\n",
            "  (0, 925)\t0.012845874888467699\n",
            "  (0, 975)\t0.012845874888467699\n",
            "  (0, 1117)\t0.06422937444233849\n",
            "  (0, 1129)\t0.012845874888467699\n",
            "  (0, 1334)\t0.0770752493308062\n",
            "  (0, 1386)\t0.012845874888467699\n",
            "  (0, 1389)\t0.012845874888467699\n",
            "  (0, 1404)\t0.0385376246654031\n",
            "  (0, 1421)\t0.012845874888467699\n",
            "  (0, 1531)\t0.025691749776935398\n",
            "  (0, 1562)\t0.025691749776935398\n",
            "  (0, 1606)\t0.23122574799241857\n",
            "  (0, 1666)\t0.012845874888467699\n",
            "  (0, 1792)\t0.012845874888467699\n",
            "  (0, 1981)\t0.051383499553870796\n",
            "  (0, 2062)\t0.012845874888467699\n",
            "  (0, 2143)\t0.1413046237731447\n",
            "  (0, 2211)\t0.012845874888467699\n",
            "  :\t:\n",
            "  (0, 35205)\t0.025691749776935398\n",
            "  (0, 35235)\t0.012845874888467699\n",
            "  (0, 35270)\t0.012845874888467699\n",
            "  (0, 35419)\t0.025691749776935398\n",
            "  (0, 35462)\t0.025691749776935398\n",
            "  (0, 35480)\t0.0385376246654031\n",
            "  (0, 35494)\t0.012845874888467699\n",
            "  (0, 35498)\t0.012845874888467699\n",
            "  (0, 35558)\t0.051383499553870796\n",
            "  (0, 35645)\t0.0385376246654031\n",
            "  (0, 35716)\t0.012845874888467699\n",
            "  (0, 35757)\t0.012845874888467699\n",
            "  (0, 35774)\t0.051383499553870796\n",
            "  (0, 35825)\t0.012845874888467699\n",
            "  (0, 35836)\t0.025691749776935398\n",
            "  (0, 35951)\t0.012845874888467699\n",
            "  (0, 35953)\t0.012845874888467699\n",
            "  (0, 36013)\t0.012845874888467699\n",
            "  (0, 36033)\t0.012845874888467699\n",
            "  (0, 36124)\t0.025691749776935398\n",
            "  (0, 36131)\t0.012845874888467699\n",
            "  (0, 36156)\t0.012845874888467699\n",
            "  (0, 36201)\t0.1413046237731447\n",
            "  (0, 36208)\t0.025691749776935398\n",
            "  (0, 36211)\t0.012845874888467699\n"
          ]
        }
      ]
    },
    {
      "cell_type": "code",
      "source": [
        "# Evaluate the sentiment for each sentence in a review, and plot the variation of sentiment\n",
        "import matplotlib.pyplot as plt\n",
        "\n",
        "sentences = X_test[0].split('.')\n",
        "\n",
        "testing_tfidf = tfidf.transform(sentences)\n",
        "predictions = classifier.predict_proba(testing_tfidf)\n",
        "polarity = [x[0] - x[1] for x in predictions]\n",
        "# polarity = [x[0] if (x[0] > x[1]) else -x[1] for x in predictions]\n",
        "\n",
        "plt.xlabel('Sentences')\n",
        "plt.ylabel('Polarity')\n",
        "plt.plot(polarity)\n",
        "plt.ylim(-1, 1)"
      ],
      "metadata": {
        "colab": {
          "base_uri": "https://localhost:8080/",
          "height": 472
        },
        "id": "UyMXKV8PB58m",
        "outputId": "dd50f35a-56f2-49b4-992b-086b484ca7fb"
      },
      "execution_count": null,
      "outputs": [
        {
          "output_type": "execute_result",
          "data": {
            "text/plain": [
              "(-1.0, 1.0)"
            ]
          },
          "metadata": {},
          "execution_count": 31
        },
        {
          "output_type": "display_data",
          "data": {
            "text/plain": [
              "<Figure size 640x480 with 1 Axes>"
            ],
            "image/png": "[encoded data removed]"
          },
          "metadata": {}
        }
      ]
    },
    {
      "cell_type": "markdown",
      "source": [
        "## Discussions\n",
        "\n",
        "To solve this problem, the sklearn or scikit-learn package was used, as it is a popular machine learning library and provides lots of important tools that were useful in this lab, such as the \"tf-idf\" feature and other probabilistic inference models, such as the Naïve Bayes model. Notice that this package was already used in a previous lab. The online documentation can be found at https://scikit-learn.org/stable/user_guide.html.\n",
        "\n",
        "At the same time, the nltk package was used, which is widely used for natural\n",
        "language processing purposes. The online documentation can be found at https://www.nltk.org/, https://www.nltk.org/book/.\n",
        "\n",
        "For this first case, we used the \"tf-idf\" feature, with a training set 80% of the data and a testing set of 20%.\n",
        "\n",
        "The figure below presents (an example) the results outputted by the program, when using the naive Bayes model:\n",
        "\n",
        "![Figure 3](https://github.com/LeomPina/AIreports/blob/main/w7_6.1.3.png?raw=true)\n",
        "\n",
        "Figure 3\n",
        "\n",
        "Notice that each run can give different results.\n",
        "\n",
        "By analysing the previous output, we can see, once more, the metrics provided by the program for the two classes, \"pos\" and \"neg\", in which we can notice that 91% of the positive instances predicted were correct (as the precision value for this instance is 0.91), while 68% of the negative instances predicted were correct. Meanwhile, 61% of the positive instances were successfully identified (as the recall value for this instance is 0.61), while 93% of the negative instances were successfully identified. Moreover, we can see that the overall accuracy was 0.76, which means that 76% of the elements in the testing set were correctly classified (as positive or negative).\n",
        "\n",
        "In the following figure, we can see a plot relative to the sentiment analysis of the first review in our testing set.\n",
        "\n",
        "![Figure 4](https://github.com/LeomPina/AIreports/blob/main/w7_6.1.4.png?raw=true)\n",
        "\n",
        "Figure 4\n",
        "\n",
        "By looking at the plot, we can see the distributed data sample. Therefore this plot shows us how the sentiment value changed throughout the sentences, from the beginning to the end of the review.\n",
        "\n",
        "For this second case, we just used the \"tf\" feature, with a training set 80% of the data and a testing set of 20%.\n",
        "\n",
        "The figure below presents us the results outputted by the program for this second scenario:\n",
        "\n",
        "![Figure 5](https://github.com/LeomPina/AIreports/blob/main/w7_6.1.5.png?raw=true)\n",
        "\n",
        "Figure 5\n",
        "\n",
        "By analysing the previous output, we can see the metrics provided by the program for the two classes, \"pos\" and \"neg\", in which we can notice that 95% of the positive instances predicted were correct (as the precision value for this instance is 0.95), while 67% of the negative instances predicted were correct. Meanwhile, 52% of the positive instances were successfully identified (as the recall value for this instance is 0.52), while 98% of the negative instances were successfully identified. Moreover, we can see that the overall accuracy was 0.75, which means that 75% of the elements in the testing set were correctly classified (as positive or negative).\n",
        "\n",
        "In the following figure, we can see a plot relative to the sentiment analysis of the first review in our testing set, while considering the change of the feature.\n",
        "\n",
        "![Figure 6](https://github.com/LeomPina/AIreports/blob/main/w7_6.1.6.png?raw=true)\n",
        "\n",
        "Figure 6\n",
        "\n",
        "By analysing these results and the different scenarios studied, we can notice that even though the results were acceptable, there were almost no differences in these outputs when opting for the \"tf\" or \"tf-idf\" feature. Some possible reasons for this similarity in results are, for example, the small and common vocabulary in these reviews, or even the possible high similarity between most reviews in this dataset.\n",
        "\n",
        "## Task 6.2 Text Classification\n",
        "###Problem Description\n",
        "\n",
        "This next task presents a text classification problem, in which we will perform a multi-class classification, instead of only using two classes as in the previous task.\n",
        "\n",
        "To solve this problem, we will use a dataset called \"newsgroups\" (from sklearn), which is a collection of messages from 20 new groups, such as comp.graphics, rec.sport.hockey, sci.space, talk.religion.misc, and others.\n",
        "\n",
        "The following figure shows us an excerpt of a message, as an example of the type of language and writing used in the messages presented in this dataset from the comp.graphics group.\n",
        "\n",
        "![Figure 7](https://github.com/LeomPina/AIreports/blob/main/w7_6.2.1.png?raw=true)\n",
        "\n",
        "Figure 7\n",
        "\n",
        "In our implemented solution for this task, once again, we will use the simple word count features, such as \"tf\" and \"tf-idf\". We are also going to use the same classification method as the one used in the previous task, the Naïve Bayes model method.\n",
        "\n",
        "##Implementation and results\n",
        "This section shows the implemented code and its respective output."
      ],
      "metadata": {
        "id": "SwXcI5GXT5HU"
      }
    },
    {
      "cell_type": "code",
      "source": [
        "from sklearn.datasets import fetch_20newsgroups\n",
        "from sklearn.naive_bayes import MultinomialNB\n",
        "from sklearn.feature_extraction.text import TfidfVectorizer"
      ],
      "metadata": {
        "id": "UhmILaXfjKaJ"
      },
      "execution_count": null,
      "outputs": []
    },
    {
      "cell_type": "code",
      "source": [
        "# Get the training dataset for the specified categoires\n",
        "categories = ['rec.sport.hockey', 'talk.religion.misc',\n",
        "              'comp.graphics', 'sci.space']\n",
        "training_data = fetch_20newsgroups(subset='train', categories=categories)"
      ],
      "metadata": {
        "id": "rud5k30vjTjn"
      },
      "execution_count": null,
      "outputs": []
    },
    {
      "cell_type": "code",
      "source": [
        "# Create the tf-idf transformer\n",
        "#tfidf = TfidfVectorizer(use_idf=True)\n",
        "tfidf = TfidfVectorizer(use_idf=False)\n",
        "training_tfidf = tfidf.fit_transform(training_data.data)\n",
        "print(training_tfidf.shape)\n",
        "\n",
        "# Train a Multinomial Naive Bayes classifier\n",
        "classifier = MultinomialNB().fit(training_tfidf, training_data.target)\n"
      ],
      "metadata": {
        "colab": {
          "base_uri": "https://localhost:8080/"
        },
        "id": "e2XaUXyajVRD",
        "outputId": "9f9ad2b1-f267-4f3c-d4c4-563ef98dbb08"
      },
      "execution_count": null,
      "outputs": [
        {
          "output_type": "stream",
          "name": "stdout",
          "text": [
            "(2154, 35956)\n"
          ]
        }
      ]
    },
    {
      "cell_type": "code",
      "source": [
        "from sklearn import metrics\n",
        "\n",
        "testing_data = fetch_20newsgroups(subset='test', categories=categories)\n",
        "testing_tfidf = tfidf.transform(testing_data.data)\n",
        "predictions = classifier.predict(testing_tfidf)\n",
        "print(metrics.classification_report(testing_data.target, predictions, target_names=categories))\n"
      ],
      "metadata": {
        "colab": {
          "base_uri": "https://localhost:8080/"
        },
        "id": "AZqQBoy1jWzd",
        "outputId": "7521c127-44e5-48a8-e825-53c49bcb3cca"
      },
      "execution_count": null,
      "outputs": [
        {
          "output_type": "stream",
          "name": "stdout",
          "text": [
            "                    precision    recall  f1-score   support\n",
            "\n",
            "  rec.sport.hockey       0.96      0.88      0.92       389\n",
            "talk.religion.misc       0.88      0.99      0.93       399\n",
            "     comp.graphics       0.65      0.97      0.78       394\n",
            "         sci.space       1.00      0.12      0.22       251\n",
            "\n",
            "          accuracy                           0.81      1433\n",
            "         macro avg       0.87      0.74      0.71      1433\n",
            "      weighted avg       0.86      0.81      0.76      1433\n",
            "\n"
          ]
        }
      ]
    },
    {
      "cell_type": "code",
      "source": [
        "errors = [i for i in range(len(predictions)) if predictions[i] != testing_data.target[i]]\n",
        "\n",
        "for i, post_id in enumerate(errors[:5]):\n",
        "  print(\"------------------------------------------------------------------\")\n",
        "  print(\"%s --> %s\\n\" %(testing_data.target_names[testing_data.target[post_id]],\n",
        "                      testing_data.target_names[predictions[post_id]]))\n",
        "  print(testing_data.data[post_id])\n"
      ],
      "metadata": {
        "colab": {
          "base_uri": "https://localhost:8080/"
        },
        "id": "E-gvmkXijYWl",
        "outputId": "9adfda91-6385-43cb-a865-4de7fbba0b61"
      },
      "execution_count": null,
      "outputs": [
        {
          "output_type": "stream",
          "name": "stdout",
          "text": [
            "------------------------------------------------------------------\n",
            "comp.graphics --> sci.space\n",
            "\n",
            "From: robert@slipknot.rain.com (Robert Reed)\n",
            "Subject: Re: ACM SIGGRAPH (and ACM in general)\n",
            "Reply-To: Robert Reed <robert@slipknot.rain.com>\n",
            "Organization: Home Animation Ltd.\n",
            "Lines: 50\n",
            "\n",
            "In article <1993Apr29.023508.11556@koko.csustan.edu> rsc@altair.csustan.edu (Steve Cunningham) writes:\n",
            "|\n",
            "|And no, SIGGRAPH 93 has not skipped town -- we're preparing the best\n",
            "|SIGGRAPH conference yet!\n",
            "\n",
            "Speaking of SIGGRAPH, I just went through the ordeal of my annual registration\n",
            "for SIGGRAPH and re-upping of membership in the ACM last night, and was I ever\n",
            "grossed out!  The new prices for membership are almost highway robbery!\n",
            "\n",
            "For example:\n",
            "\n",
            "\tSIGGRAPH basic fee went from $26 last year to $59 this year for the same\n",
            "\tthing, a 127% increase.  Those facile enough to arrange a trip to the\n",
            "\tannual conference could reduce this to $27 by selecting SIGGRAPH Lite,\n",
            "\twhich means SIGGRAPH is charging an additional $32 (or so) for the\n",
            "\tproceedings and the art show catalog, essentially.\n",
            "\n",
            "\tTOPLAS went up 40% in cost, way outstripping the current inflation rate.\n",
            "\n",
            "\tBasic SIGCHI fees remainded the same, but whereas before SIGCHI\n",
            "\tmembership included UIST and Human Factors conferences proceedings,\n",
            "\tthese are now an extra cost option.  Bundling that back into the basic\n",
            "\trate, equivalent services have gone up 100% in cost.\n",
            "\n",
            "\tSIGOIS membership cost has up 33%, but they've also split out the\n",
            "\tComputer Supported Cooperative Work conference proceedings that used to\n",
            "\tbe included with membership.  Adding that cost back in means this SIG\n",
            "\talso has doubled its membership fee.\n",
            "\n",
            "What really galls me is that the ACM sent out brochures a couple months ago\n",
            "touting their new approach to providing member services, and tried to make it\n",
            "sound like they were offering NEW services.  But with the exception of a couple,\n",
            "like SIGGRAPH, all the \"plus\" services appear to be just splitting the costs\n",
            "into smaller piles so that they don't look so big.  But their recommended\n",
            "changes to my membership would have me paying 90% more than last year for a 31%\n",
            "increase in services (measured by cost, not by value), and, curiously, a 31%\n",
            "inflation rate on the publications I got last year.\n",
            "\n",
            "Is anyone out there as galled by this extortion as I am?\n",
            "________________________________________________________________________________\n",
            "Robert Reed\t\t\tHome Animation Ltd.\t\t503-656-8414\n",
            "robert@slipknot.rain.com\t5686 First Court, West Linn, OR 97068\n",
            "\n",
            "SHOOTING YOURSELF IN THE FOOT IN VARIOUS LANGUAGES AND SYSTEMS\n",
            "\n",
            "Motif:  You spend days writing a UIL description of your foot, the\n",
            "  trajectory, the bullet, and the intricate scrollwork on the ivory handles\n",
            "  of the gun. When you finally get around to pulling the trigger, the gun\n",
            "  jams.\n",
            "________________________________________________________________________________\n",
            "\n",
            "------------------------------------------------------------------\n",
            "talk.religion.misc --> sci.space\n",
            "\n",
            "From: markbr%radian@natinst.com (mark)\n",
            "Subject: Re: RFD: misc.taoism\n",
            "Nntp-Posting-Host: zippy.radian.com\n",
            "Organization: n.o.y.b\n",
            "Lines: 16\n",
            "\n",
            "In article <1993Apr22.004331.22548@coe.montana.edu> uphrrmk@gemini.oscs.montana.edu (Jack Coyote) writes:\n",
            ">Sunlight shining off of the ocean.\n",
            ">\n",
            "The universe, mirrored in a puddle.\n",
            ">\n",
            ">Aleph null bottles of beer on the wall, Aleph null bottles of beer!\n",
            ">Take one down, pass it around  ...  Aleph null bottles of beer on the wall!\n",
            ">\n",
            "Isn't it amazing how there *always* seems to be *another* bottle of bheer there?\n",
            "\n",
            "Aleph *one* bottles of beer on the wall, Aleph *one* null bottles of beer!\n",
            "\n",
            "\tyou, too, are a puddle.\n",
            "\tAs above, so below.\n",
            "\n",
            "\tmark\n",
            "\n",
            "------------------------------------------------------------------\n",
            "rec.sport.hockey --> sci.space\n",
            "\n",
            "From: catcher@netcom.com (Paul W. Francisco)\n",
            "Subject: Re: NHL LETTER (***QUITE LONG***)\n",
            "Organization: Night People\n",
            "Lines: 56\n",
            "\n",
            "In article <1993Apr26.002033.22710@ramsey.cs.laurentian.ca> maynard@ramsey.cs.laurentian.ca (Roger Maynard) writes:\n",
            ">In <1993Apr25.224654.23092@sol.ctr.columbia.edu> phoenix@startide.ctr.columbia.edu (Ali Lemer) writes:\n",
            ">>I'm not even going to bother to reply to your ranting post; the letter is \n",
            ">>addressed to Gary Bettman, not you. He can reply as he wishes.\n",
            ">\n",
            ">Not so.  Your post is addressed to all.  I quote:\n",
            "\n",
            "As she said, the letter is addressed to Bettman.  The post (which, though\n",
            "having pretty much the same content, is an entirely different entity) was\n",
            "addressed to all.  When she puts the letter in the mail I doubt it will\n",
            "say \"To: All\".  I figure she wanted to let people here see what was in it\n",
            "since it is a topic that interests a lot of folks here.  That's an entirely \n",
            "different purpose than sending the letter to Bettman.\n",
            "\n",
            "Unfortunately...\n",
            "\n",
            ">And I guess I let you know didn't I?\n",
            "\n",
            ">You do NOT represent a *large* body of hockey fans by any standard you care\n",
            ">to use to define \"large\".  65 people constitutes nothing more than a tiny \n",
            ">group of fanatics and is in no way representative of \"a large body of hockey\n",
            ">fans on the Internet\" let alone of \"one of the largest computer networks in \n",
            ">the world.\" \n",
            "\n",
            "The \"largest computer networks in the world\" phrase is a definition of \n",
            "the Internet, not a group as a whole that she claims to represent.  As\n",
            "for the business of whether or not it is large, it is large compared\n",
            "to say, the number of folks on r.s.h. who are sending a letter to thank\n",
            "him for changing the names, at least to this point.  And just for my\n",
            "own curiosity I thought I'd look up the \"official\" definition of large\n",
            "in the dictionary.  It reads:\n",
            "\n",
            "large - 1.  having more than usual power, capacity, or scope.    \n",
            "        2.  exceeding most other things of like kind in quantity or size.\n",
            "\n",
            "Now I have no idea how many letters Bettman may have gotten on the issue\n",
            "or how many people may have signed them.  65 people may be up there, \n",
            "thereby validating definition 2.  I would also wager that the geographical\n",
            "range of signatures is quite large, which would give it a large scope.\n",
            "\n",
            ">He might be impressed by the size of the list of names.\n",
            "\n",
            "Why would he be impressed with this unless it were \"large\"? \n",
            "\n",
            "I am of course assuming that you actually agree with what you are writing\n",
            "and are not simply trying to be a pain about the whole issue to hear\n",
            "yourself speak.  \n",
            "\n",
            "I personally don't know whether or not I agree with the letter.  I have\n",
            "very mixed emotions about it.  I like the names as they are, and don't\n",
            "think they make it that difficult to learn the game, but there might be\n",
            "a shred of validity to the change.  \n",
            "\n",
            "-- \n",
            "Paul W. Francisco        \t    In the shadow an angel cries...\n",
            "catcher@netcom.com                      - Front Line Assembly\n",
            "\n",
            "------------------------------------------------------------------\n",
            "talk.religion.misc --> sci.space\n",
            "\n",
            "From: pboxrud@magnus.acs.ohio-state.edu (Paul D Boxrud)\n",
            "Subject: Religion and marriage\n",
            "Nntp-Posting-Host: top.magnus.acs.ohio-state.edu\n",
            "Organization: The Ohio State University\n",
            "Distribution: na\n",
            "Lines: 20\n",
            "\n",
            "     I wasn't sure if this was the right newsgroup to post this to, but I guess\n",
            "the misc is there for a reason.  Here goes...  I am getting married in June to \n",
            "a devout (Wisconsin Synod) Lutheran.  I would classify myself as a strong \n",
            "agnostic/weak athiest.  This has been a a subject of many discussions between\n",
            "us and is really our only real obstacle.  We don't have any real difficulties \n",
            "with the religious differences yet, but I expect they will pop up when we have \n",
            "children.  I have agreed to raise the\n",
            "children \"nominally\" Lutheran.  That is, Lutheran traditions, but trying to\n",
            "keep an open mind.  I am not sure if this is even possible though.  I feel that\n",
            "that the worst quality of being devoutly religous is the lack of an open mind.\n",
            "\n",
            "     Anyway, I guess I'll get on with my question.  Is anyone in the same \n",
            "situation and can give some suggestions as to how to deal with this?  We've \n",
            "taken the attitude so far of just talking about it a lot and not letting \n",
            "anything get bottled up inside.  Sometimes I get the feeling we're making this \n",
            "much bigger than it actually is.  Any comments would be greatly appreciated.  \n",
            "Also, please e-mail responses since I don't get a chance to read this group\n",
            "often.  :-(\n",
            "\n",
            "Paul\n",
            "\n",
            "------------------------------------------------------------------\n",
            "talk.religion.misc --> sci.space\n",
            "\n",
            "From: b645zaw@utarlg.uta.edu (stephen)\n",
            "Subject: Re: Biblical Backing of Koresh's 3-02 Tape (Cites enclosed)\n",
            "News-Software: VAX/VMS VNEWS 1.41    \n",
            "Nntp-Posting-Host: utarlg.uta.edu\n",
            "Organization: The University of Texas at Arlington\n",
            "Lines: 33\n",
            "\n",
            "In article <1993Apr21.154750.24341@maths.tcd.ie>, \n",
            "pmoloney@maths.tcd.ie (Paul Moloney) writes...\n",
            "\n",
            ">cotera@woods.ulowell.edu (Ray Cote) writes:\n",
            ">> David Thibedeau (sp?), one of the cult members, said that the fire\n",
            ">>was started when one of the tanks spraying the tear gas into the \n",
            ">>facilities knocked over a lantern.\n",
            "> \n",
            ">In two places at once? Bit of a coincidence, that.\n",
            "\n",
            "Never lived out in the country I see. 4 years ago I had a place\n",
            "where I had to carry in propane every month, hook the bottle up \n",
            "to copper line, to supply both the stove, and a type of water-\n",
            "heater called a flash-heater. A flash heater has a pilot lamp.\n",
            "\n",
            "Here's the point. If the Davidians had their propane tanks hooked \n",
            "up to copper (or some such) lines, run through the ceiling spaces\n",
            "-- when the FBI started wrecking the place, they could easily have\n",
            "ruptured the lines. Which then would start spreading out through\n",
            "the overhead. And since it was a country home, it wasn't necessarily\n",
            "built with non-flamable insulation. \n",
            "\n",
            "It's probably more plausible than anything else, that the fire started\n",
            "mainly as a result of accident -- or willful negligence on the part of\n",
            "the FBI, which should have known better (ie. manslaughter).\n",
            "\n",
            "It's certain that if the tanks hadn't been used that day -- the fire\n",
            "wouldn't have started.\n",
            "\n",
            ">Whatever the faults the FBI had, the fact is that responsibility\n",
            ">for those deaths lies with Koresh.\n",
            "\n",
            "Paul, what \"fact?\"\n",
            "\n"
          ]
        }
      ]
    },
    {
      "cell_type": "markdown",
      "source": [
        "## Discussions\n",
        "To find a solution to this problem, again, the sklearn or scikit-learn package was used.\n",
        "\n",
        "For this first case, we used the \"tf-idf\" feature, and we used 4 different categories, such as \"rec.sport.hockey\", \"talk.religion.misc\", \"comp.graphics\", and \"sci.space\".\n",
        "\n",
        "The figure below presents us the results outputted by the program, when using the naive Bayes model:\n",
        "\n",
        "![Figure 8](https://github.com/LeomPina/AIreports/blob/main/w7_6.2.2.png?raw=true)\n",
        "\n",
        "Figure 8\n",
        "\n",
        "By analysing the previous results, we can see the metrics provided by the program for the four classes, in which we can notice that 97% of the \"rec.sport.hockey\" instances predicted were correct, 93% of the \"talk.religion.misc\" instances predicted were correct, 83% of the \"comp.graphics\" instances predicted were correct, and 100% of the \"sci.space\" instances predicted were correct. At the same time, 90% of the \"rec.sport.hockey\" instances were successfully identified, 99% of the \"talk.religion.misc\" instances were successfully identified, 98% of the \"comp.graphics\" instances were successfully identified, and 72% of the \"sci.space\" instances were successfully identified. Furthermore, we notice that the overall accuracy was 0.92, which means that 92% of the elements in the testing set were correctly classified.\n",
        "\n",
        "For this second case, we just used the \"tf\" feature, while considering the same 4 categories, such as \"rec.sport.hockey\", \"talk.religion.misc\", \"comp.graphics\", and \"sci.space\".\n",
        "\n",
        "The figure below presents us the results outputted by the program, when using the naive Bayes model, while considering the change of the feature:\n",
        "\n",
        "![Figure 9](https://github.com/LeomPina/AIreports/blob/main/w7_6.2.3.png?raw=true)\n",
        "\n",
        "Figure 9\n",
        "\n",
        "By analysing the results above, we can see, once more, the metrics provided by the program for the four classes, in which we can notice that 96% of the \"rec.sport.hockey\" instances predicted were correct, 88% of the \"talk.religion.misc\" instances predicted were correct, 65% of the \"comp.graphics\" instances predicted were correct, and 100% of the \"sci.space\" instances predicted were correct. At the same time, 88% of the \"rec.sport.hockey\" instances were successfully identified, 99% of the \"talk.religion.misc\" instances were successfully identified, 97% of the \"comp.graphics\" instances were successfully identified, and 12% of the \"sci.space\" instances were successfully identified. Furthermore, we notice that the overall accuracy was 0.81, which means that 81% of the elements in the testing set were correctly classified.\n",
        "\n",
        "Note that we can also check some of the incorrect results (so we can understand if we study more about what went wrong and why), which are presented at the end of the output when executing the program.\n",
        "\n",
        "By analysing these results and the different scenarios studied, we can notice that when changing features, the results are approximately the same, except in the \"sci.space\" category, where we can see a difference in the recall value. Some possible reasons for this difference in this particular category may be, for example, the \"tf-idf\" method considers both the frequency of words within the documents and its frequency across the whole dataset. On the other hand, the type of language and terms used in this category can also affect the \"IDF\" (as there is a possibility that many terms, such as scientific ones, can only be seen in these type of documents), which ultimately can lead to better performance when exploring the \"sci.space\" category.\n",
        "\n",
        "## Task 6.3 Topic Modelling\n",
        "###Problem Description\n",
        "\n",
        "This last task presents topic modelling, as we will use The LDA (latent Dirichlet allocation), which is a very popular method used for topic modelling, to distinguish and analyse the hidden semantic structures or topics of a large text collection, which can be used for various purposes, such as automatic categorisation of documents, text mining, text information retrieval, and others.\n",
        "\n",
        "The LDA method lies in the premise that every document in a given collection contains at least one hidden topic, which means that every topic or theme is composed of a number of words. So in this problem, we will use this method to discover these underlying topics, as well as their word distribution (supporting words), which can be done by maximizing the likelihood of observing the given data, given the topics and words. It is also important to note that this method does not need to have the knowledge about any topics in the documents.\n",
        "\n",
        "In our implemented solution for this problem, we will use as data two documents about “artificial intelligence” and “football”, which will be the documents that are present in the corpus (collection), and can be seen in the implementation section shown next.\n",
        "\n",
        "##Implementation and results\n",
        "This section shows the implemented code and its respective output.\n"
      ],
      "metadata": {
        "id": "BK4Qz0kvjhkD"
      }
    },
    {
      "cell_type": "code",
      "source": [
        "import nltk\n",
        "from nltk.corpus import stopwords\n",
        "from nltk.stem.snowball import SnowballStemmer\n",
        "from gensim import models, corpora\n"
      ],
      "metadata": {
        "id": "7ArUhSXZ8IRu"
      },
      "execution_count": null,
      "outputs": []
    },
    {
      "cell_type": "code",
      "source": [
        "documents = [\n",
        "  \"\"\"\n",
        "  Artificial intelligence (AI), sometimes called machine\n",
        "  intelligence, is intelligence demonstrated by machines, unlike\n",
        "  the natural intelligence displayed by humans and animals. Leading\n",
        "  AI textbooks define the field as the study of \"intelligent\n",
        "  agents\": any device that perceives its environment and takes\n",
        "  actions that maximize its chance of successfully achieving its\n",
        "  goals. Colloquially, the term \"artificial intelligence\" is often\n",
        "  used to describe machines (or computers) that mimic \"cognitive\"\n",
        "  functions that humans associate with the human mind, such\n",
        "  as \"learning\" and \"problem solving\".\n",
        "  \"\"\",\n",
        "  \"\"\"\n",
        "  Association football, more commonly known as football or\n",
        "  soccer, is a team sport played with a spherical ball between\n",
        "  two teams of 11 players. It is played by approximately 250\n",
        "  million players in over 200 countries and dependencies, making it\n",
        "  the world's most popular sport. The game is played on a\n",
        "  rectangular field called a pitch with a goal at each end. The\n",
        "  object of the game is to outscore the opposition by moving the\n",
        "  ball beyond the goal line into the opposing goal. The team with\n",
        "  the higher number of goals wins the game.\n",
        "  \"\"\"\n",
        "]"
      ],
      "metadata": {
        "id": "KKEm8TxO8OVD"
      },
      "execution_count": null,
      "outputs": []
    },
    {
      "cell_type": "code",
      "source": [
        "# Clean the data by using stemming and stopwords removal\n",
        "nltk.download('stopwords')\n",
        "stemmer = SnowballStemmer('english')\n",
        "stop_words = stopwords.words('english')\n",
        "texts = [\n",
        "  [stemmer.stem(word) for word in document.lower().split() if word not in stop_words]\n",
        "  for document in documents\n",
        "  ]"
      ],
      "metadata": {
        "colab": {
          "base_uri": "https://localhost:8080/"
        },
        "id": "F4SFqw9R8RYB",
        "outputId": "7be10837-2124-4701-cd2c-038b99fb00bb"
      },
      "execution_count": null,
      "outputs": [
        {
          "output_type": "stream",
          "name": "stderr",
          "text": [
            "[nltk_data] Downloading package stopwords to /root/nltk_data...\n",
            "[nltk_data]   Package stopwords is already up-to-date!\n"
          ]
        }
      ]
    },
    {
      "cell_type": "code",
      "source": [
        "# Create a dictionary from the words\n",
        "dictionary = corpora.Dictionary(texts)\n",
        "\n",
        "# Create a document-term matrix\n",
        "doc_term_mat = [dictionary.doc2bow(text) for text in texts]\n",
        "\n",
        "# Generate the LDA model\n",
        "num_topics = 2\n",
        "ldamodel = models.ldamodel.LdaModel(doc_term_mat,\n",
        "        num_topics=num_topics, id2word=dictionary, passes=25)\n"
      ],
      "metadata": {
        "id": "VDcVlJvD8S7q"
      },
      "execution_count": null,
      "outputs": []
    },
    {
      "cell_type": "code",
      "source": [
        "num_words = 5\n",
        "for i in range(num_topics):\n",
        "  print(ldamodel.print_topic(i, topn=num_words))\n",
        "\n",
        "print('\\nTop ' + str(num_words) + ' contributing words to each topic:')\n",
        "for item in ldamodel.print_topics(num_topics=num_topics, num_words=num_words):\n",
        "    print('\\nTopic', item[0])\n",
        "    list_of_strings = item[1].split(' + ')\n",
        "    for text in list_of_strings:\n",
        "        details = text.split('*')\n",
        "        print(\"%-12s:%0.2f%%\" %(details[1], 100*float(details[0])))\n"
      ],
      "metadata": {
        "colab": {
          "base_uri": "https://localhost:8080/"
        },
        "id": "MyBNJUtc8U2R",
        "outputId": "a0e0a605-cdd3-49f3-9c3f-a9a0a6303004"
      },
      "execution_count": null,
      "outputs": [
        {
          "output_type": "stream",
          "name": "stdout",
          "text": [
            "0.035*\"intellig\" + 0.035*\"human\" + 0.025*\"machin\" + 0.015*\"associ\" + 0.015*\"call\"\n",
            "0.036*\"team\" + 0.036*\"goal\" + 0.036*\"play\" + 0.026*\"game\" + 0.026*\"ball\"\n",
            "\n",
            "Top 5 contributing words to each topic:\n",
            "\n",
            "Topic 0\n",
            "\"intellig\"  :3.50%\n",
            "\"human\"     :3.50%\n",
            "\"machin\"    :2.50%\n",
            "\"associ\"    :1.50%\n",
            "\"call\"      :1.50%\n",
            "\n",
            "Topic 1\n",
            "\"team\"      :3.60%\n",
            "\"goal\"      :3.60%\n",
            "\"play\"      :3.60%\n",
            "\"game\"      :2.60%\n",
            "\"ball\"      :2.60%\n"
          ]
        }
      ]
    },
    {
      "cell_type": "code",
      "source": [
        "new_docs = [\n",
        "  \"\"\"\n",
        "  Jager thinks this is just the start of AI eating the beautiful\n",
        "  game. “We have a dedicated team that focuses only on artificial\n",
        "  intelligence and machine learning for sports teams,” he\n",
        "  says. “That is not only for soccer, but for Formula One and\n",
        "  American football. We have a baseball team, and we're talking\n",
        "  right now with cricket teams.”\n",
        "  \"\"\"\n",
        "]\n",
        "\n",
        "new_texts = [\n",
        "  [stemmer.stem(word) for word in document.lower().split() if word not in stop_words]\n",
        "  for document in new_docs\n",
        "  ]\n",
        "new_doc_term_mat = [dictionary.doc2bow(text) for text in new_texts]\n",
        "\n",
        "vector = ldamodel[new_doc_term_mat]\n",
        "print(vector[0])\n"
      ],
      "metadata": {
        "colab": {
          "base_uri": "https://localhost:8080/"
        },
        "id": "XJ1BIl3f8W2I",
        "outputId": "3e556d11-8af0-42c3-f78a-ac077cca170c"
      },
      "execution_count": null,
      "outputs": [
        {
          "output_type": "stream",
          "name": "stdout",
          "text": [
            "[(0, 0.50678587), (1, 0.4932142)]\n"
          ]
        }
      ]
    },
    {
      "cell_type": "markdown",
      "source": [
        "## Discussions\n",
        "To solve this problem, the gensim package was used, which is used in natural language processing and topic modelling. More specifically, we will use the Latent Dirichlet Allocation (LDA).The online documentation can be found at https://radimrehurek.com/gensim/.\n",
        "\n",
        "The sklearn or scikit-learn package was also used for completing this task.\n",
        "\n",
        "Firstly, we used the 2 documents (2 topics) previously mentioned and applied the LDA method, The figure below shows us the results (an example) outputted by the program:\n",
        "\n",
        "![Figure 10](https://github.com/LeomPina/AIreports/blob/main/w7_6.3.1.png?raw=true)\n",
        "\n",
        "Figure 10\n",
        "\n",
        "Notice that each run can give different results.\n",
        "\n",
        "By analysing the previous results, we can see that the LDA model identified 2 different topics, where each of the words related, as shown above, have a significant weight to contribute to identifying the correspondent topic, so in this case, the words or terms related to artificial intelligence can be seen in \"topic 0\" and ones related to football can be seen in \"topic 1\". So we can say that higher word percentages mean that these words are more central to the related topic.\n",
        "\n",
        "Let's now see the results when we add a new document, which can be seen in the code implementation section (along with the first ones), so we can apply the trained LDA model to this new text document, and then analyse these new results.\n",
        "\n",
        "The new results outputted are displayed in the form of a vector structure, such as [(0, 0.50678587), (1, 0.4932142)], which indicates the computation of its projection vector, from the LDA model.\n",
        "\n",
        "By analysing these results, we can see that regarding \"topic 0\", this new document presents a weight association value of 0.50678587, and regarding \"topic 1\", it presents a weight association value of 0.4932142. So we can agree that these results seem acceptable, as the new document talks about both topics, and therefore combine elements from both.\n",
        "\n",
        "#Conclusion\n",
        "\n",
        "In conclusion, after completing this Lab work by solving its tasks and problems, we can agree that by using all these methods, such as the simple word count features, \"tf\" and \"tf-idf\", the Naïve Bayes, and the LDA, we were able to find a solution for these 3 tasks. By doing so, we gained additional knowledge on how these tools and methods can be applied to solve natural language processing problems, and how these can be useful for different scenarios.\n",
        "\n",
        "In further investigations, we could study more about other natural language processing methods, while also exploring different problems. Thus, we could also expand our corpus and add more documents and content, so we can study different kinds of results and see how these methods perform under different conditions."
      ],
      "metadata": {
        "id": "sLNwIHhL8gt9"
      }
    }
  ]
}