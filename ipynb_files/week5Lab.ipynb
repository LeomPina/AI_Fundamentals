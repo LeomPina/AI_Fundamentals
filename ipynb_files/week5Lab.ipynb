{
  "nbformat": 4,
  "nbformat_minor": 0,
  "metadata": {
    "colab": {
      "provenance": []
    },
    "kernelspec": {
      "name": "python3",
      "display_name": "Python 3"
    },
    "language_info": {
      "name": "python"
    }
  },
  "cells": [
    {
      "cell_type": "markdown",
      "source": [
        "# Lab 4. Probabilistic Inference\n",
        "This lab sheet aims to help us understand more about Probabilistic Inference, as we are going to study different probabilistic inference models and even solve 3 problems, which will be divided into the following tasks:\n",
        "1. The iris classification problem\n",
        "2. The diabetes diagnosis problem\n",
        "3. The monty hall problem\n",
        "\n",
        "Each one of these will be solved using the Naïve Bayes and Bayesian Networks.\n",
        "\n",
        "## Task 4.1 Iris Classification Using Naïve Bayes\n",
        "###Problem Description\n",
        "\n",
        "This first task presents us with a flower classification problem, in which we will analyse the petal and sepal features of the flowers, in order to predict their species. For this, we will use a dataset that contains 5 attributes, such as four features of the flowers (sepal length, sepal width, petal length and petal width) and the iris species (three only). This dataset has a total number of 150 data samples of which 50 correspond for each species (we have 3 species).\n",
        "\n",
        "We can see these species of flower in the figure below.\n",
        "\n",
        "![Figure 1](https://github.com/LeomPina/AIreports/blob/main/Captura%20de%20ecr%C3%A3%202023-10-15%20232934.png?raw=true)\n",
        "\n",
        "Figure 1\n",
        "\n",
        "##Implementation and results\n",
        "This section shows the implemented code and its respective output.\n"
      ],
      "metadata": {
        "id": "-oWHh4T-Mo5U"
      }
    },
    {
      "cell_type": "code",
      "source": [
        "!pip install scikit-learn\n",
        "from sklearn import datasets\n",
        "from sklearn.naive_bayes import GaussianNB\n",
        "from sklearn.metrics import accuracy_score, classification_report, confusion_matrix\n",
        "from sklearn.model_selection import train_test_split, cross_validate\n",
        "\n",
        "import numpy as np\n",
        "import matplotlib.pyplot as plt\n",
        "from matplotlib import patches\n"
      ],
      "metadata": {
        "colab": {
          "base_uri": "https://localhost:8080/"
        },
        "id": "Vn9o0XG-eNK4",
        "outputId": "edc4e760-8cd0-49cf-8d85-be8e582ffa1e"
      },
      "execution_count": null,
      "outputs": [
        {
          "output_type": "stream",
          "name": "stdout",
          "text": [
            "Requirement already satisfied: scikit-learn in /usr/local/lib/python3.10/dist-packages (1.2.2)\n",
            "Requirement already satisfied: numpy>=1.17.3 in /usr/local/lib/python3.10/dist-packages (from scikit-learn) (1.23.5)\n",
            "Requirement already satisfied: scipy>=1.3.2 in /usr/local/lib/python3.10/dist-packages (from scikit-learn) (1.11.3)\n",
            "Requirement already satisfied: joblib>=1.1.1 in /usr/local/lib/python3.10/dist-packages (from scikit-learn) (1.3.2)\n",
            "Requirement already satisfied: threadpoolctl>=2.0.0 in /usr/local/lib/python3.10/dist-packages (from scikit-learn) (3.2.0)\n"
          ]
        }
      ]
    },
    {
      "cell_type": "code",
      "source": [
        "# We only use two features (sepal and petaal length)\n",
        "iris = datasets.load_iris()\n",
        "X = iris.data\n",
        "#X = iris.data[:, [0,2]]\n",
        "Y = iris.target\n",
        "\n",
        "# split the dataset into training (80%) and testing (20%), and fit the data into the naive Bayes model\n",
        "X_train, X_test, Y_train, Y_test = train_test_split(X, Y, test_size=0.2)\n",
        "nb = GaussianNB()\n",
        "nb.fit(X_train, Y_train)\n",
        "\n",
        "# Use the naive Bayes model we just built to predict on the testing set, and display the results.\n",
        "Y_pred = nb.predict(X_test)\n",
        "acc = accuracy_score(Y_test, Y_pred)\n",
        "cm = confusion_matrix(Y_test, Y_pred)\n",
        "cr = classification_report(Y_test, Y_pred)\n",
        "print(\"Accuracy:\", acc)\n",
        "print(\"Confusion Matrix:\\n\", cm)\n",
        "print(\"Prior:\\n\", nb.class_prior_)\n",
        "print(\"Mean:\\n\", nb.theta_)\n",
        "print(\"Variance:\\n\", nb.var_)\n"
      ],
      "metadata": {
        "colab": {
          "base_uri": "https://localhost:8080/"
        },
        "id": "Q3DzQPrUeOwM",
        "outputId": "58a12ce1-a8de-4874-8456-971bc99325f9"
      },
      "execution_count": null,
      "outputs": [
        {
          "output_type": "stream",
          "name": "stdout",
          "text": [
            "Accuracy: 0.9666666666666667\n",
            "Confusion Matrix:\n",
            " [[10  0  0]\n",
            " [ 0  8  1]\n",
            " [ 0  0 11]]\n",
            "Prior:\n",
            " [0.33333333 0.34166667 0.325     ]\n",
            "Mean:\n",
            " [[4.9825     3.3875     1.46       0.2375    ]\n",
            " [5.97073171 2.7804878  4.27560976 1.31707317]\n",
            " [6.55641026 3.00512821 5.53333333 2.02307692]]\n",
            "Variance:\n",
            " [[0.12194375 0.14109375 0.0334     0.01134375]\n",
            " [0.27572874 0.09913147 0.20964902 0.03702558]\n",
            " [0.43784353 0.10869165 0.29606838 0.08228797]]\n"
          ]
        }
      ]
    },
    {
      "cell_type": "code",
      "source": [
        "colours = 'bgk'\n",
        "for i, colour in enumerate(colours):\n",
        "  train_data = X_train[Y_train == i]\n",
        "  plt.scatter(train_data[:,0], train_data[:,1], marker='o', facecolors='none', edgecolors=colour)\n",
        "  #plt.scatter(train_data[:,2], train_data[:,3], marker='o', facecolors='none', edgecolors=colour)\n",
        "  test_data = X_test[Y_pred == i]\n",
        "  plt.scatter(test_data[:,0], test_data[:,1], marker='o', facecolors=colour, edgecolors=colour)\n",
        "  #plt.scatter(test_data[:,2], test_data[:,3], marker='o', facecolors=colour, edgecolors=colour)\n",
        "\n",
        "error_data = X_test[Y_pred != Y_test]\n",
        "plt.scatter(error_data[:,0], error_data[:,1], marker='x', facecolors='r', edgecolors='r', s=64)\n",
        "#plt.scatter(error_data[:,2], error_data[:,3], marker='x', facecolors='r', edgecolors='r', s=64)\n",
        "\n",
        "# ellipse = patches.Ellipse(xy=nb.theta_[0], width=nb.sigma_[0][0]*10, height=nb.sigma_[0][1]*10, edgecolor='b', fc='none')\n",
        "# # ellipse = patches.Ellipse(xy=(5,2), width=2, height=1)\n",
        "# ax = plt.gca()\n",
        "# ax.add_patch(ellipse)\n",
        "\n",
        "plt.title(\"Naive Bayes Classifier for Iris Dataset\")\n",
        "plt.show()"
      ],
      "metadata": {
        "colab": {
          "base_uri": "https://localhost:8080/",
          "height": 507
        },
        "id": "5Lx3p87_eSP5",
        "outputId": "10e47bf5-c485-4c86-fcc2-b442cc18ec31"
      },
      "execution_count": null,
      "outputs": [
        {
          "output_type": "stream",
          "name": "stderr",
          "text": [
            "<ipython-input-45-3b7d37fb0ffd>:11: UserWarning: You passed a edgecolor/edgecolors ('r') for an unfilled marker ('x').  Matplotlib is ignoring the edgecolor in favor of the facecolor.  This behavior may change in the future.\n",
            "  plt.scatter(error_data[:,0], error_data[:,1], marker='x', facecolors='r', edgecolors='r', s=64)\n"
          ]
        },
        {
          "output_type": "display_data",
          "data": {
            "text/plain": [
              "<Figure size 640x480 with 1 Axes>"
            ],
            "image/png": "[encoded data removed]"
          },
          "metadata": {}
        }
      ]
    },
    {
      "cell_type": "markdown",
      "source": [
        "## Discussions\n",
        "To solve this problem, the sklearn or scikit-learn package was used, as it is a popular machine learning library and provides lots of important tools that were useful in this lab, such as the Bayesian inference methods and lots of machine learning algorithms necessary to this study. The online\n",
        "documentation can be found at https://scikit-learn.org/stable/user_guide.html.\n",
        "\n",
        "For this first case, instead of using all four features, we only used two, sepal length and petal length, in order to simplify the problem and its results.\n",
        "\n",
        "The following table presents us the results (an example) outputted by the program, when using the naive Bayes model:\n",
        "\n",
        "| accuracy | Confusion Matrix| Prior | Mean | Variance |\n",
        "|:-----------|:--------|:--------|:--------|:--------|\n",
        "|    0.8667     |    [ [ 7  0  0] [ 0  9  2] [ 0  2  10] ] | [0.3583 0.3250 0.3167] | [ [5.0465 1.4790] [5.9435 4.2871] [6.6184 5.5657] ] | [ [0.1099 0.0295] [0.2050 0.1826] [0.4420 0.3306] ] |\n",
        "\n",
        "###### table 1\n",
        "\n",
        "Notice that each run can give different results as  the dataset is randomly split into the training and testing sets.\n",
        "\n",
        "By analysing the previous table, we can see that the ratio of correctly predicted instances to the total ones in the testing set, or in other words, how accurate was the model used in predicting the species based on the two features was approximately 0.8667 (which is a good result). Furthermore, The confusion matrix indicates the performance of the model, the prior shows us the probability of each species occurring in the sample before observing any features, the mean presents the average value of each feature for each species and we can also see the variance of each feature for each species.\n",
        "\n",
        "In the figure below, we can see a plot relative to the example results displayed in the table above.\n",
        "\n",
        "![Figure 2](https://github.com/LeomPina/AIreports/blob/main/NB_plot.png?raw=true)\n",
        "\n",
        "Figure 2\n",
        "\n",
        "By looking at the plot, we can see the distributed data sample. Three different colours were used for representing the species, red crosses for the misclassified patterns, solid markers for the testing set, and empty ones for the training set. It's important to notice that, as two of the three existing species are not clearly separable in the dataset, we can see four values cross-marked, which occurred around the limit of these two classes.\n",
        "\n",
        "For this second case, we will now use the four features available.\n",
        "\n",
        "The table below shows us the results outputted for the full iris dataset:\n",
        "\n",
        "| accuracy | Confusion Matrix| Prior | Mean | Variance |\n",
        "|:-----------|:--------|:--------|:--------|:--------|\n",
        "|    0.9667     |    [ [ 5  0  0] [ 0  11  0] [ 0  1  13] ] | [0.3750 0.3250 0.3000  ] | [ [5.0333 3.4466 1.4688 0.2533] [5.9589 2.7769 4.2820 1.3461] [6.5444 2.9527 5.5416 2.0527] ] | [ [0.1222 0.1496 0.0310  0.0113] [0.2813 0.1094 0.2301 0.0419] [0.4402 0.1052 0.3118 0.0813] ] |\n",
        "\n",
        "###### table 2\n",
        "\n",
        "By analysing the previous table, we can notice that the accuracy was higher this time, which means the results show a better level of prediction, some possible reasons for this to happen are, for example, the addition of features that may be more relevant for distinguishing the iris species, which can lead to a richer dataset and consequently to a more complex and overall better model.\n",
        "\n",
        "In the figure below, we can see a plot relative to the example results displayed in the table above, where the first one (Figure 3) is relative to the first two features and the second one (Figure 4) is relative to the other existing two.\n",
        "\n",
        "![Figure 3](https://github.com/LeomPina/AIreports/blob/main/t4.1_plot2.1.png?raw=true)\n",
        "\n",
        "Figure 3\n",
        "\n",
        "![Figure 4](https://github.com/LeomPina/AIreports/blob/main/t4.1_plot2.2.png?raw=true)\n",
        "\n",
        "Figure 4\n",
        "\n",
        "The plots above show us that, for the same reason as before, there is still (even though less) a value marked with a red cross (misclassified pattern).\n",
        "\n",
        "## Task 4.2 Diabetes Diagnosis\n",
        "###Problem Description\n",
        "\n",
        "This next task presents us with a medical diagnosis problem, where we will predict if a certain patient is suffered from a specific disease, diabetes in this study case, or its levels of progression, when given numerous observations, such as basic personal details (age, gender, height, weight and others), body test data (blood sugar, heart rate, lipoproteins, and others) and symptoms (fever, headache, and others).\n",
        "\n",
        "##Implementation and results\n",
        "This section shows the implemented code and its respective output."
      ],
      "metadata": {
        "id": "hN7mk7Qdh8kh"
      }
    },
    {
      "cell_type": "code",
      "source": [
        "!pip install scikit-learn\n",
        "from sklearn import datasets\n",
        "from sklearn.naive_bayes import GaussianNB\n",
        "from sklearn.metrics import accuracy_score, classification_report, confusion_matrix\n",
        "from sklearn.model_selection import train_test_split, cross_validate\n",
        "\n",
        "# import numpy as np\n",
        "import matplotlib.pyplot as plt\n",
        "# from matplotlib import patches\n",
        "import math"
      ],
      "metadata": {
        "colab": {
          "base_uri": "https://localhost:8080/"
        },
        "id": "4ILvrJiut6Zc",
        "outputId": "5da4b8d1-bea0-4f7a-c590-38c11cd3db9a"
      },
      "execution_count": null,
      "outputs": [
        {
          "output_type": "stream",
          "name": "stdout",
          "text": [
            "Requirement already satisfied: scikit-learn in /usr/local/lib/python3.10/dist-packages (1.2.2)\n",
            "Requirement already satisfied: numpy>=1.17.3 in /usr/local/lib/python3.10/dist-packages (from scikit-learn) (1.23.5)\n",
            "Requirement already satisfied: scipy>=1.3.2 in /usr/local/lib/python3.10/dist-packages (from scikit-learn) (1.11.3)\n",
            "Requirement already satisfied: joblib>=1.1.1 in /usr/local/lib/python3.10/dist-packages (from scikit-learn) (1.3.2)\n",
            "Requirement already satisfied: threadpoolctl>=2.0.0 in /usr/local/lib/python3.10/dist-packages (from scikit-learn) (3.2.0)\n"
          ]
        }
      ]
    },
    {
      "cell_type": "code",
      "source": [
        "diabetes = datasets.load_diabetes()\n",
        "# X = diabetes.data[:,[2,3,9]]\n",
        "X = diabetes.data\n",
        "Y = [math.floor(x/150) for x in diabetes.target]\n",
        "\n",
        "X_train, X_test, Y_train, Y_test = train_test_split(X, Y, test_size=0.25)\n",
        "\n",
        "nb = GaussianNB()\n",
        "nb.fit(X_train, Y_train)\n",
        "Y_pred = nb.predict(X_test)\n",
        "acc = accuracy_score(Y_test, Y_pred)\n",
        "cm = confusion_matrix(Y_test, Y_pred)\n",
        "cr = classification_report(Y_test, Y_pred)\n",
        "\n",
        "print(\"Accuracy:\", acc)\n",
        "print(\"Confusion Matrix:\\n\", cm)\n",
        "print(\"Prior:\\n\", nb.class_prior_)\n",
        "print(\"Mean:\\n\", nb.theta_)\n",
        "print(\"Variance:\\n\", nb.var_)\n"
      ],
      "metadata": {
        "colab": {
          "base_uri": "https://localhost:8080/"
        },
        "id": "tw_-6gw9uGPx",
        "outputId": "924c57f3-90c1-40ea-f1a7-9d1a0ba3dd58"
      },
      "execution_count": null,
      "outputs": [
        {
          "output_type": "stream",
          "name": "stdout",
          "text": [
            "Accuracy: 0.6486486486486487\n",
            "Confusion Matrix:\n",
            " [[39 19  0]\n",
            " [11 31  5]\n",
            " [ 1  3  2]]\n",
            "Prior:\n",
            " [0.54380665 0.43202417 0.02416918]\n",
            "Mean:\n",
            " [[-0.00914709 -0.00280598 -0.02001991 -0.01721048 -0.00633893 -0.00523432\n",
            "   0.01729504 -0.01672129 -0.02255578 -0.01378016]\n",
            " [ 0.00998089 -0.00198015  0.01536536  0.01775517  0.00956375  0.00775648\n",
            "  -0.01410222  0.01497061  0.02232395  0.01404244]\n",
            " [ 0.00583713  0.00301924  0.08109682  0.02832773  0.00617078  0.00584939\n",
            "  -0.04017941  0.04168908  0.0457525   0.04603877]]\n",
            "Variance:\n",
            " [[0.00213618 0.00223763 0.0013948  0.00177586 0.00217446 0.00227758\n",
            "  0.00257269 0.00177764 0.00155205 0.00184507]\n",
            " [0.002322   0.00224657 0.00177613 0.00233222 0.00222325 0.00212438\n",
            "  0.00137571 0.002031   0.00187924 0.00227871]\n",
            " [0.00198074 0.00227156 0.00089449 0.00308017 0.00153208 0.00202376\n",
            "  0.00043861 0.00330891 0.00063405 0.00170257]]\n"
          ]
        }
      ]
    },
    {
      "cell_type": "code",
      "source": [
        "colours = 'bgk'\n",
        "for i, colour in enumerate(colours):\n",
        "  train_data = X_train[Y_train == i]\n",
        "  plt.scatter(train_data[:,0], train_data[:,1], marker='o', facecolors='none', edgecolors=colour)\n",
        "  test_data = X_test[Y_pred == i]\n",
        "  plt.scatter(test_data[:,0], test_data[:,1], marker='o', facecolors=colour, edgecolors=colour)\n",
        "\n",
        "error_data = X_test[Y_pred != Y_test]\n",
        "plt.scatter(error_data[:,0], error_data[:,1], marker='x', facecolors='r', edgecolors='r', s=64)\n",
        "\n",
        "# ellipse = patches.Ellipse(xy=nb.theta_[0], width=nb.sigma_[0][0]*10, height=nb.sigma_[0][1]*10, edgecolor='b', fc='none')\n",
        "# # ellipse = patches.Ellipse(xy=(5,2), width=2, height=1)\n",
        "# ax = plt.gca()\n",
        "# ax.add_patch(ellipse)\n",
        "\n",
        "plt.title(\"Naive Bayes Classifier for Diabetes Dataset\")\n",
        "plt.show()"
      ],
      "metadata": {
        "colab": {
          "base_uri": "https://localhost:8080/",
          "height": 507
        },
        "id": "1GP63HCKxONj",
        "outputId": "73613599-a5b1-46fb-dbe2-ac5e9f2c8293"
      },
      "execution_count": null,
      "outputs": [
        {
          "output_type": "stream",
          "name": "stderr",
          "text": [
            "<ipython-input-69-5149f2f510ca>:9: UserWarning: You passed a edgecolor/edgecolors ('r') for an unfilled marker ('x').  Matplotlib is ignoring the edgecolor in favor of the facecolor.  This behavior may change in the future.\n",
            "  plt.scatter(error_data[:,0], error_data[:,1], marker='x', facecolors='r', edgecolors='r', s=64)\n"
          ]
        },
        {
          "output_type": "display_data",
          "data": {
            "text/plain": [
              "<Figure size 640x480 with 1 Axes>"
            ],
            "image/png": "[encoded data removed]"
          },
          "metadata": {}
        }
      ]
    },
    {
      "cell_type": "markdown",
      "source": [
        "## Discussions\n",
        "To find a solution to this problem, again, it was used the sklearn or scikit-learn package.\n",
        "\n",
        "For this problem, we used the diabetes dataset (provided in sklearn), which contains 10 features and one quantitative measure of diabetes progression. The progression measure was also turned into three different classes: 0-150, 150-300, and 300+.\n",
        "\n",
        "The following table presents us the results (an example) outputted by the program when using the naive Bayes model:\n",
        "\n",
        "| accuracy | Confusion Matrix| Prior | Mean | Variance |\n",
        "|:-----------|:--------|:--------|:--------|:--------|\n",
        "|    0.6486     |    [ [ 36  23  1] [ 9  35  1] [ 0  5  1] ] | [0.5377 0.4380 0.0241] | [ [-0.0065 -0.0001 -0.0227 -0.0169 -0.0095 -0.0080 0.0180 -0.0209 -0.0265 -0.0139] [ 0.0072  0.0020  0.0189  0.0153  0.0061   0.0040 -0.0154   0.0147   0.0233  0.0138] [ 0.0022  0.0149  0.0705  0.0231  0.0121  0.0129 -0.0369  0.0555    0.0359  0.0595] ] ] | [ [0.0023 0.0022 0.0013 0.0016 0.0021 0.0020 0.0022 0.0014 0.0015 0.0015] [0.0022 0.0022 0.0019 0.0022 0.0022 0.0022 0.0014 0.0020 0.0018 0.0023  ] [0.0018 0.0021 0.0015 0.0022 0.0021 0.0016 0.0019 0.0041 0.0017 0.0014] ] |\n",
        "\n",
        "###### table 3\n",
        "\n",
        "By analysing the previous table, we can notice that the accuracy rate is lower compared to the previous task, which indicates that the values obtained are not as precise in terms of the level of prediction. Therefore, through the information provided by the table above we can infer that there were some efficiency problems when it comes to correctly predicting data.\n",
        "\n",
        "In the following figure, we can see a plot relative to the example results displayed in the table above, where, just for the sake of simplicity and behaviour study, we only considered the first two features.\n",
        "\n",
        "![Figure 5](https://github.com/LeomPina/AIreports/blob/main/t4.2_plot.png?raw=true)\n",
        "\n",
        "Figure 5\n",
        "\n",
        "By looking at the plot, we can see that there are many values marked with a red cross (misclassified pattern), which adds to the conclusion that the results for this task were not as predicatively correct as they were in the previous one.\n",
        "\n",
        "## Task 4.3 Monty Hall Problem Using Bayesian Network\n",
        "###Problem Description\n",
        "\n",
        "This last task presents the famous \"Monty Hall\" problem, which is a probability puzzle named after the host of an American TV show, called Monty Hall. So this problem consists of having 3 distinct doors, in which behind 1 of them is a car (that represents the prize) and behind the other 2 are goats (which are worthless). As a contestant, we pick one of these 3 doors and then the host, who knows what's behind each door, will open one of the doors that contains a goat. After doing this, the host will ask us (the contestant) if we would like to switch to the other closed door or, instead, stick with our original choice.\n",
        "\n",
        "Now, the real challenge is to know what is the best choice to make. The answer to this question is, yes, we should switch our choice to the other unopened door, as it's to our advantage to do so, since now our odds of winning have just doubled.\n",
        "\n",
        "The following figure shows a representation of the problem.\n",
        "\n",
        "![Figure 6](https://github.com/LeomPina/AIreports/blob/main/Captura%20de%20ecr%C3%A3%202023-10-17%20163610.png?raw=true)\n",
        "\n",
        "Figure 6\n",
        "\n",
        "This is a very popular brain teaser problem, more info about it can be found at https://en.wikipedia.org/wiki/Monty_Hall_problem.\n",
        "\n",
        "In order to solve this problem, we are going to use Bayesian Networks. So first of all, we have to define the variables, P is going to symbolize the prize, and since we have 3 doors available where it could be, then P={0, 1, 2}. As for the contestant's initial door chosen, C, we also assume that C={0, 1, 2}. For the host's choice, H, which will totally depend on where the car is and also what was the contestant's initial choice, we can say that H={0, 1, 2}. When talking about prior probabilities (initial probability about an event before any other has happened), we can infer that P(P=0) = P(P=1) = P(P=2) = 1/3, P(C=0) = P(C=1) = P(C=2) = 1/3 and, since the host's decision relies on P and C, we will have the following structure.\n",
        "\n",
        "![Figure 7](https://github.com/LeomPina/AIreports/blob/main/Captura%20de%20ecr%C3%A3%202023-10-17%20173152.png?raw=true)\n",
        "\n",
        "Figure 7\n",
        "\n",
        "The figure above represents our Bayesian Network.\n",
        "\n",
        "Let's now take a look at the following table, which shows us the conditional probability (probability of an event happening, given that another one has already occurred) of H given P and C is:\n",
        "\n",
        "![Figure 8](https://github.com/LeomPina/AIreports/blob/main/Captura%20de%20ecr%C3%A3%202023-10-17%20174245.png?raw=true)\n",
        "\n",
        "Figure 8\n",
        "\n",
        "##Implementation and results\n",
        "This section shows the implemented code and its respective output."
      ],
      "metadata": {
        "id": "fx6OwcslvRHR"
      }
    },
    {
      "cell_type": "code",
      "source": [
        "!pip install pgmpy\n",
        "from pgmpy.models import BayesianModel\n",
        "from pgmpy.factors.discrete import TabularCPD"
      ],
      "metadata": {
        "colab": {
          "base_uri": "https://localhost:8080/"
        },
        "id": "LHUNCe5PXPHj",
        "outputId": "c36450c5-323c-4de8-f65c-40661ebd61ad"
      },
      "execution_count": null,
      "outputs": [
        {
          "output_type": "stream",
          "name": "stdout",
          "text": [
            "Collecting pgmpy\n",
            "  Downloading pgmpy-0.1.24-py3-none-any.whl (2.0 MB)\n",
            "\u001b[?25l     \u001b[90m━━━━━━━━━━━━━━━━━━━━━━━━━━━━━━━━━━━━━━━━\u001b[0m \u001b[32m0.0/2.0 MB\u001b[0m \u001b[31m?\u001b[0m eta \u001b[36m-:--:--\u001b[0m\r\u001b[2K     \u001b[91m━━━━━━━━━━\u001b[0m\u001b[91m╸\u001b[0m\u001b[90m━━━━━━━━━━━━━━━━━━━━━━━━━━━━━\u001b[0m \u001b[32m0.5/2.0 MB\u001b[0m \u001b[31m15.7 MB/s\u001b[0m eta \u001b[36m0:00:01\u001b[0m\r\u001b[2K     \u001b[90m━━━━━━━━━━━━━━━━━━━━━━━━━━━━━━━━━━━━━━━━\u001b[0m \u001b[32m2.0/2.0 MB\u001b[0m \u001b[31m33.6 MB/s\u001b[0m eta \u001b[36m0:00:00\u001b[0m\n",
            "\u001b[?25hRequirement already satisfied: networkx in /usr/local/lib/python3.10/dist-packages (from pgmpy) (3.1)\n",
            "Requirement already satisfied: numpy in /usr/local/lib/python3.10/dist-packages (from pgmpy) (1.23.5)\n",
            "Requirement already satisfied: scipy in /usr/local/lib/python3.10/dist-packages (from pgmpy) (1.11.3)\n",
            "Requirement already satisfied: scikit-learn in /usr/local/lib/python3.10/dist-packages (from pgmpy) (1.2.2)\n",
            "Requirement already satisfied: pandas in /usr/local/lib/python3.10/dist-packages (from pgmpy) (1.5.3)\n",
            "Requirement already satisfied: pyparsing in /usr/local/lib/python3.10/dist-packages (from pgmpy) (3.1.1)\n",
            "Requirement already satisfied: torch in /usr/local/lib/python3.10/dist-packages (from pgmpy) (2.0.1+cu118)\n",
            "Requirement already satisfied: statsmodels in /usr/local/lib/python3.10/dist-packages (from pgmpy) (0.14.0)\n",
            "Requirement already satisfied: tqdm in /usr/local/lib/python3.10/dist-packages (from pgmpy) (4.66.1)\n",
            "Requirement already satisfied: joblib in /usr/local/lib/python3.10/dist-packages (from pgmpy) (1.3.2)\n",
            "Requirement already satisfied: opt-einsum in /usr/local/lib/python3.10/dist-packages (from pgmpy) (3.3.0)\n",
            "Requirement already satisfied: python-dateutil>=2.8.1 in /usr/local/lib/python3.10/dist-packages (from pandas->pgmpy) (2.8.2)\n",
            "Requirement already satisfied: pytz>=2020.1 in /usr/local/lib/python3.10/dist-packages (from pandas->pgmpy) (2023.3.post1)\n",
            "Requirement already satisfied: threadpoolctl>=2.0.0 in /usr/local/lib/python3.10/dist-packages (from scikit-learn->pgmpy) (3.2.0)\n",
            "Requirement already satisfied: patsy>=0.5.2 in /usr/local/lib/python3.10/dist-packages (from statsmodels->pgmpy) (0.5.3)\n",
            "Requirement already satisfied: packaging>=21.3 in /usr/local/lib/python3.10/dist-packages (from statsmodels->pgmpy) (23.2)\n",
            "Requirement already satisfied: filelock in /usr/local/lib/python3.10/dist-packages (from torch->pgmpy) (3.12.4)\n",
            "Requirement already satisfied: typing-extensions in /usr/local/lib/python3.10/dist-packages (from torch->pgmpy) (4.5.0)\n",
            "Requirement already satisfied: sympy in /usr/local/lib/python3.10/dist-packages (from torch->pgmpy) (1.12)\n",
            "Requirement already satisfied: jinja2 in /usr/local/lib/python3.10/dist-packages (from torch->pgmpy) (3.1.2)\n",
            "Requirement already satisfied: triton==2.0.0 in /usr/local/lib/python3.10/dist-packages (from torch->pgmpy) (2.0.0)\n",
            "Requirement already satisfied: cmake in /usr/local/lib/python3.10/dist-packages (from triton==2.0.0->torch->pgmpy) (3.27.6)\n",
            "Requirement already satisfied: lit in /usr/local/lib/python3.10/dist-packages (from triton==2.0.0->torch->pgmpy) (17.0.2)\n",
            "Requirement already satisfied: six in /usr/local/lib/python3.10/dist-packages (from patsy>=0.5.2->statsmodels->pgmpy) (1.16.0)\n",
            "Requirement already satisfied: MarkupSafe>=2.0 in /usr/local/lib/python3.10/dist-packages (from jinja2->torch->pgmpy) (2.1.3)\n",
            "Requirement already satisfied: mpmath>=0.19 in /usr/local/lib/python3.10/dist-packages (from sympy->torch->pgmpy) (1.3.0)\n",
            "Installing collected packages: pgmpy\n",
            "Successfully installed pgmpy-0.1.24\n"
          ]
        }
      ]
    },
    {
      "cell_type": "code",
      "source": [
        "# Defining the network structure\n",
        "model = BayesianModel([('Contestant', 'Host'), ('Prize', 'Host')])\n",
        "\n",
        "# Defining the CPDs:\n",
        "'''\n",
        "cpd_c = TabularCPD('Contestant', 3, [[1/3], [1/3], [1/3]])\n",
        "cpd_p = TabularCPD('Prize', 3, [[1/3], [1/3], [1/3]])\n",
        "cpd_h = TabularCPD('Host', 3, [[0, 0, 0, 0, 0.5, 1, 0, 1, 0.5],\n",
        "                               [0.5, 0, 1, 0, 0, 0, 1, 0, 0.5],\n",
        "                               [0.5, 1, 0, 1, 0.5, 0, 0, 0, 0]],\n",
        "                  evidence=['Contestant', 'Prize'], evidence_card=[3, 3])\n",
        "'''\n",
        "\n",
        "cpd_c = TabularCPD('Contestant', 4, [[0.25], [0.25], [0.25], [0.25]])\n",
        "cpd_p = TabularCPD('Prize', 4, [[0.25], [0.25], [0.25], [0.25]])\n",
        "cpd_h = TabularCPD('Host', 4, [[0,   0,    0,    0,    0,    1/3, 0.5,  0.5,  0,    0.5,  1/3, 0.5,  0,    0.5,  0.5,  1/3],\n",
        "                                [1/3, 0,    0.5,  0.5,  0,    0,   0,    0,    0.5,  0,    1/3, 0.5,  0.5,  0,    0.5,  1/3],\n",
        "                                [1/3, 0.5,  0,    0.5,  0.5,  1/3, 0,    0.5,  0,    0,    0,   0,    0.5,  0.5,  0,    1/3],\n",
        "                                [1/3, 0.5,  0.5,  0,    0.5,  1/3, 0.5,  0,    0.5,  0.5,  1/3, 0,    0,    0,    0,    0]],\n",
        "                   evidence=['Contestant', 'Prize'], evidence_card=[4, 4])\n",
        "\n",
        "# Associating the CPDs with the network structure.\n",
        "model.add_cpds(cpd_c, cpd_p, cpd_h)\n"
      ],
      "metadata": {
        "colab": {
          "base_uri": "https://localhost:8080/"
        },
        "id": "Ayo4t9VBX7iw",
        "outputId": "bf7edf08-5076-4e26-b99b-f9fde8952c12"
      },
      "execution_count": null,
      "outputs": [
        {
          "output_type": "stream",
          "name": "stderr",
          "text": [
            "WARNING:pgmpy:BayesianModel has been renamed to BayesianNetwork. Please use BayesianNetwork class, BayesianModel will be removed in future.\n"
          ]
        }
      ]
    },
    {
      "cell_type": "code",
      "source": [
        "# Infering the posterior probability\n",
        "from pgmpy.inference import VariableElimination\n",
        "\n",
        "infer = VariableElimination(model)\n",
        "posterior = infer.query(variables=['Prize'], evidence={'Contestant': 0, 'Host': 2}, show_progress=False, joint=False)\n",
        "print(posterior['Prize'])"
      ],
      "metadata": {
        "colab": {
          "base_uri": "https://localhost:8080/"
        },
        "id": "VA8IdC8HX9yr",
        "outputId": "107aec39-7b41-4077-e1c2-2507571cd482"
      },
      "execution_count": null,
      "outputs": [
        {
          "output_type": "stream",
          "name": "stderr",
          "text": [
            "WARNING:pgmpy:BayesianModel has been renamed to BayesianNetwork. Please use BayesianNetwork class, BayesianModel will be removed in future.\n",
            "WARNING:pgmpy:BayesianModel has been renamed to BayesianNetwork. Please use BayesianNetwork class, BayesianModel will be removed in future.\n"
          ]
        },
        {
          "output_type": "stream",
          "name": "stdout",
          "text": [
            "+----------+--------------+\n",
            "| Prize    |   phi(Prize) |\n",
            "+==========+==============+\n",
            "| Prize(0) |       0.2500 |\n",
            "+----------+--------------+\n",
            "| Prize(1) |       0.3750 |\n",
            "+----------+--------------+\n",
            "| Prize(2) |       0.0000 |\n",
            "+----------+--------------+\n",
            "| Prize(3) |       0.3750 |\n",
            "+----------+--------------+\n"
          ]
        }
      ]
    },
    {
      "cell_type": "markdown",
      "source": [
        "## Discussions\n",
        "To solve this problem, we used the pgmpy library, which provides graphical models including the Bayesian networks. The online documentation can be found at https://pgmpy.org/.\n",
        "\n",
        "This table presents us the results outputted by the algorithm when using the Bayesian Network:\n",
        "\n",
        "| Prize | phi(Prize)|\n",
        "|:-----------|:--------|\n",
        "|    Prize(0)    |  0.3333  |\n",
        "|    Prize(1)    |  0.6667  |\n",
        "|    Prize(2)    |  0.0000  |\n",
        "\n",
        "###### table 4\n",
        "\n",
        "By analyzing the previous table and its results, we can notice that the decision to keep our original door choice has a prize probability of 1/3, on the other hand, switching to the other closed door gives us a prize probability of 3/2 (while obviously, the prize probability of the already revealed door is 0). Therefore, we can conclude that the best option is to switch our choice as our chances of winning are doubled.\n",
        "\n",
        "Let's now study the results of a different scenario, where the rules of the game are changed and now we have 4 doors, while the other rules stay the same since we still choose one door and the host still opens one door that doesn't contain the prize.\n",
        "\n",
        "This next table presents us the results outputted by this new algorithm submitted to the changes mentioned before when using the Bayesian Network:\n",
        "\n",
        "| Prize | phi(Prize)|\n",
        "|:-----------|:--------|\n",
        "|    Prize(0)    |  0.2500  |\n",
        "|    Prize(1)    |  0.3750  |\n",
        "|    Prize(2)    |  0.0000  |\n",
        "|    Prize(3)    |  0.3750  |\n",
        "\n",
        "###### table 5\n",
        "\n",
        "By analysing the table above, we can see that the probabilities have changed a lot. Initially, the probability of choosing the prize is 1/4, as the host reveals one of the doors with a goat, the prize probability of that door will obviously, instantly become 0. Furthermore, as the prize probability is 1/4 and one goat was revealed, this leaves us with 3/4 of the prize probability that is distributed for the two remaining doors, which gives us a 3/8 of the prize probability for these two other unopened doors. Therefore, we can conclude that in this scenario, it's also in our interest to switch our choice to one of these two doors, since we have a higher chance of winning the prize.\n",
        "\n",
        "#Conclusion\n",
        "\n",
        "In conclusion, after completing this Lab work by solving its tasks and problems, we can agree that by using the Naïve Bayes and Bayesian Networks, we were able to find a solution for these 3 tasks. By doing so, we also studied these 3 classic problems and therefore gained additional knowledge on how these tools and methods can help us to predict data and work on probabilistic\n",
        "inference.\n",
        "\n",
        "In further investigations, we could use and explore nonlinear methods, create more complex Bayesian Networks, compare the performance of Naïve Bayes with other machine learning algorithms, change the training and testing set to get different results, and explore other scenarios. Furthermore, we could also try to apply this knowledge to real-world applications or other areas of investigation."
      ],
      "metadata": {
        "id": "UJWFejaRXsmq"
      }
    }
  ]
}